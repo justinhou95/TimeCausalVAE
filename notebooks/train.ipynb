{
 "cells": [
  {
   "cell_type": "code",
   "execution_count": 1,
   "metadata": {},
   "outputs": [],
   "source": [
    "%load_ext autoreload\n",
    "%autoreload 2\n",
    "import logging\n",
    "import sys\n",
    "import yaml\n",
    "\n",
    "\n",
    "sys.path.append('../src')\n",
    "from experiments.experiment_utils import ExperimentPipeline\n",
    "from tsvae.utils.logger_utils import get_console_logger\n",
    "logger = get_console_logger(__name__)\n",
    "from os import path as pt"
   ]
  },
  {
   "cell_type": "code",
   "execution_count": 2,
   "metadata": {},
   "outputs": [
    {
     "name": "stderr",
     "output_type": "stream",
     "text": [
      "Experiment results saved to ../results/BS2price_timestep_60/model_InfoCVAE_De_CLSTMRes_En_CLSTMRes_Prior_RealNVP_Con_Id_Dis_None_comment_test\n",
      "Saving experiment config to ../results/BS2price_timestep_60/model_InfoCVAE_De_CLSTMRes_En_CLSTMRes_Prior_RealNVP_Con_Id_Dis_None_comment_test\n",
      "Setting ramdom seed: 0\n"
     ]
    }
   ],
   "source": [
    "from experiments.experiment_utils import get_output_dir, update_config\n",
    "from tsvae.dataset.data_pipeline import DataPipeline\n",
    "from tsvae.models.network_pipeline import NetworkPipeline\n",
    "from tsvae.utils.random_utils import set_seed\n",
    "\n",
    "\n",
    "base_output_dir = '..' \n",
    "new_config = {'epochs' : 100, 'wandb': True, 'comment': 'test'}\n",
    "exp_config_path = '../exp_configs/expMultiBSprice/infocvae.yaml'\n",
    "\n",
    "with open(exp_config_path) as file:\n",
    "    exp_config = dict(yaml.safe_load(file))\n",
    "\n",
    "exp_config = update_config(exp_config, new_config)\n",
    "\n",
    "exp_config.base_output_dir = base_output_dir\n",
    "exp_config.output_dir = get_output_dir(exp_config)\n",
    "logger.info(f\"Experiment results saved to {exp_config.output_dir}\")\n",
    "\n",
    "logger.info(f\"Saving experiment config to {exp_config.output_dir}\")\n",
    "config_file_path = pt.join(exp_config.output_dir, \"exp_config.yaml\")\n",
    "with open(config_file_path, \"w\") as outfile:\n",
    "    yaml.dump(exp_config, outfile, default_flow_style=False)\n",
    "# logger.info(exp_config)\n",
    "\n",
    "# Generating data\n",
    "logger.info(f\"Setting ramdom seed: {exp_config.seed}\")\n",
    "set_seed(exp_config.seed)"
   ]
  },
  {
   "cell_type": "code",
   "execution_count": 3,
   "metadata": {},
   "outputs": [
    {
     "name": "stderr",
     "output_type": "stream",
     "text": [
      "Loading dataset: BS2price\n",
      "Base dataset initialized\n",
      "Load networks:\n"
     ]
    }
   ],
   "source": [
    "logger.info(f\"Loading dataset: {exp_config.dataset}\")\n",
    "data_pipeline = DataPipeline()\n",
    "train_dataset, eval_dataset = data_pipeline(exp_config)\n",
    "\n",
    "# Loading network\n",
    "logger.info(\"Load networks:\")\n",
    "network_pipeline = NetworkPipeline()\n",
    "model = network_pipeline(exp_config)\n",
    "# logger.info(f\"{model}\")"
   ]
  },
  {
   "cell_type": "code",
   "execution_count": 4,
   "metadata": {},
   "outputs": [
    {
     "name": "stderr",
     "output_type": "stream",
     "text": [
      "Failed to detect the name of this notebook, you can set it manually with the WANDB_NOTEBOOK_NAME environment variable to enable code saving.\n",
      "\u001b[34m\u001b[1mwandb\u001b[0m: Currently logged in as: \u001b[33mjustinhou95\u001b[0m (\u001b[33mjustinhou\u001b[0m). Use \u001b[1m`wandb login --relogin`\u001b[0m to force relogin\n"
     ]
    },
    {
     "data": {
      "text/html": [
       "wandb version 0.18.3 is available!  To upgrade, please run:\n",
       " $ pip install wandb --upgrade"
      ],
      "text/plain": [
       "<IPython.core.display.HTML object>"
      ]
     },
     "metadata": {},
     "output_type": "display_data"
    },
    {
     "data": {
      "text/html": [
       "Tracking run with wandb version 0.16.6"
      ],
      "text/plain": [
       "<IPython.core.display.HTML object>"
      ]
     },
     "metadata": {},
     "output_type": "display_data"
    },
    {
     "data": {
      "text/html": [
       "Run data is saved locally in <code>../wandb/wandb/run-20241014_101520-n3q1ktwk</code>"
      ],
      "text/plain": [
       "<IPython.core.display.HTML object>"
      ]
     },
     "metadata": {},
     "output_type": "display_data"
    },
    {
     "data": {
      "text/html": [
       "Syncing run <strong><a href='https://wandb.ai/justinhou/tsvae_project/runs/n3q1ktwk' target=\"_blank\">northern-feather-795</a></strong> to <a href='https://wandb.ai/justinhou/tsvae_project' target=\"_blank\">Weights & Biases</a> (<a href='https://wandb.me/run' target=\"_blank\">docs</a>)<br/>"
      ],
      "text/plain": [
       "<IPython.core.display.HTML object>"
      ]
     },
     "metadata": {},
     "output_type": "display_data"
    },
    {
     "data": {
      "text/html": [
       " View project at <a href='https://wandb.ai/justinhou/tsvae_project' target=\"_blank\">https://wandb.ai/justinhou/tsvae_project</a>"
      ],
      "text/plain": [
       "<IPython.core.display.HTML object>"
      ]
     },
     "metadata": {},
     "output_type": "display_data"
    },
    {
     "data": {
      "text/html": [
       " View run at <a href='https://wandb.ai/justinhou/tsvae_project/runs/n3q1ktwk' target=\"_blank\">https://wandb.ai/justinhou/tsvae_project/runs/n3q1ktwk</a>"
      ],
      "text/plain": [
       "<IPython.core.display.HTML object>"
      ]
     },
     "metadata": {},
     "output_type": "display_data"
    },
    {
     "name": "stderr",
     "output_type": "stream",
     "text": [
      "Model passed sanity check !\n",
      "Ready for training.\n",
      "\n"
     ]
    }
   ],
   "source": [
    "from tsvae.trainers.base_trainer_config import BaseTrainerConfig\n",
    "from tsvae.trainers.training_pipeline import TrainingPipeline\n",
    "\n",
    "\n",
    "training_config = BaseTrainerConfig(\n",
    "    output_dir=exp_config.output_dir,\n",
    "    learning_rate=exp_config.lr,\n",
    "    per_device_train_batch_size=exp_config.train_batch_size,\n",
    "    per_device_eval_batch_size=exp_config.eval_batch_size,\n",
    "    optimizer_cls=exp_config.optimizer,\n",
    "    optimizer_params=None,\n",
    "    scheduler_cls=None,\n",
    "    scheduler_params=None,\n",
    "    steps_saving=exp_config.steps_saving,\n",
    "    steps_predict=exp_config.steps_predict,\n",
    "    seed=exp_config.seed,\n",
    "    num_epochs=exp_config.epochs,\n",
    "    wandb_callback=exp_config.wandb,\n",
    "    wandb_output_dir=exp_config.base_output_dir + \"/wandb\",\n",
    ")\n",
    "\n",
    "train_pipeline = TrainingPipeline(model=model, training_config=training_config, exp_config=exp_config)\n",
    "\n",
    "# log_output_dir is not accessible through pipeline\n",
    "trainer = train_pipeline(\n",
    "    train_dataset=train_dataset,\n",
    "    eval_dataset=eval_dataset,\n",
    "    device_name=exp_config.device_name,\n",
    ")"
   ]
  },
  {
   "cell_type": "code",
   "execution_count": 5,
   "metadata": {},
   "outputs": [
    {
     "name": "stderr",
     "output_type": "stream",
     "text": [
      "Created ../results/BS2price_timestep_60/model_BetaCVAE_De_CLSTMRes_En_CLSTMRes_Prior_RealNVP_Con_Id_Dis_None_comment_test/BetaCVAE_training_2024-10-08_20-56-58. \n",
      "Training config, checkpoints and final model will be saved here.\n",
      "\n",
      "Training params:\n",
      " - max_epochs: 100\n",
      " - per_device_train_batch_size: 256\n",
      " - per_device_eval_batch_size: 256\n",
      " - checkpoint saving every: 20\n",
      "Optimizer: Adam (\n",
      "Parameter Group 0\n",
      "    amsgrad: False\n",
      "    betas: (0.9, 0.999)\n",
      "    capturable: False\n",
      "    differentiable: False\n",
      "    eps: 1e-08\n",
      "    foreach: None\n",
      "    fused: None\n",
      "    lr: 0.001\n",
      "    maximize: False\n",
      "    weight_decay: 0\n",
      ")\n",
      "Scheduler: None\n",
      "Device: cpu\n",
      "\n",
      "Successfully launched training !\n",
      "\n",
      "Training of epoch 1/100:  90%|█████████ | 9/10 [00:00<00:00, 11.87batch/s]recon: 59.87\n",
      "kl: 3.07\n",
      "total loss: 59.99\n",
      "Training of epoch 1/100: 100%|██████████| 10/10 [00:01<00:00,  8.82batch/s]\n",
      "Eval of epoch 1/100:  10%|█         | 1/10 [00:00<00:02,  3.69batch/s]\n"
     ]
    },
    {
     "name": "stdout",
     "output_type": "stream",
     "text": [
      "{'train/epoch_loss': 64.38598747253418, 'eval/mmd_real_fake': tensor(0.4449), 'eval/swd_real_fake': tensor(0.3616), 'eval/mmd_real_recon': tensor(0.4445), 'eval/swd_real_recon': tensor(0.3612)}\n"
     ]
    },
    {
     "name": "stderr",
     "output_type": "stream",
     "text": [
      "--------------------------------------------------------------------------\n",
      "Train loss: 64.386\n",
      "--------------------------------------------------------------------------\n",
      "Training of epoch 2/100:  90%|█████████ | 9/10 [00:00<00:00, 12.15batch/s]recon: 52.47\n",
      "kl: 2.61\n",
      "total loss: 52.58\n",
      "Training of epoch 2/100: 100%|██████████| 10/10 [00:01<00:00,  8.92batch/s]\n",
      "Eval of epoch 2/100:  10%|█         | 1/10 [00:00<00:02,  3.52batch/s]\n",
      "--------------------------------------------------------------------------\n",
      "Train loss: 54.1237\n",
      "--------------------------------------------------------------------------\n"
     ]
    },
    {
     "name": "stdout",
     "output_type": "stream",
     "text": [
      "{'train/epoch_loss': 54.123695373535156, 'eval/mmd_real_fake': tensor(0.4391), 'eval/swd_real_fake': tensor(0.3786), 'eval/mmd_real_recon': tensor(0.4305), 'eval/swd_real_recon': tensor(0.3735)}\n"
     ]
    },
    {
     "name": "stderr",
     "output_type": "stream",
     "text": [
      "Training of epoch 3/100: 100%|██████████| 10/10 [00:00<00:00, 12.80batch/s]recon: 46.29\n",
      "kl: 5.41\n",
      "total loss: 46.50\n",
      "Training of epoch 3/100: 100%|██████████| 10/10 [00:01<00:00,  9.46batch/s]\n",
      "Eval of epoch 3/100:  10%|█         | 1/10 [00:00<00:02,  3.75batch/s]\n",
      "--------------------------------------------------------------------------\n",
      "Train loss: 47.5157\n",
      "--------------------------------------------------------------------------\n"
     ]
    },
    {
     "name": "stdout",
     "output_type": "stream",
     "text": [
      "{'train/epoch_loss': 47.515682220458984, 'eval/mmd_real_fake': tensor(0.4247), 'eval/swd_real_fake': tensor(0.3535), 'eval/mmd_real_recon': tensor(0.3919), 'eval/swd_real_recon': tensor(0.3393)}\n"
     ]
    },
    {
     "name": "stderr",
     "output_type": "stream",
     "text": [
      "Training of epoch 4/100:  90%|█████████ | 9/10 [00:00<00:00, 12.36batch/s]recon: 39.24\n",
      "kl: 11.74\n",
      "total loss: 39.71\n",
      "Training of epoch 4/100: 100%|██████████| 10/10 [00:01<00:00,  9.18batch/s]\n",
      "Eval of epoch 4/100:  10%|█         | 1/10 [00:00<00:02,  3.87batch/s]\n",
      "--------------------------------------------------------------------------\n",
      "Train loss: 41.553\n",
      "--------------------------------------------------------------------------\n"
     ]
    },
    {
     "name": "stdout",
     "output_type": "stream",
     "text": [
      "{'train/epoch_loss': 41.55295257568359, 'eval/mmd_real_fake': tensor(0.4478), 'eval/swd_real_fake': tensor(0.3477), 'eval/mmd_real_recon': tensor(0.2936), 'eval/swd_real_recon': tensor(0.2975)}\n"
     ]
    },
    {
     "name": "stderr",
     "output_type": "stream",
     "text": [
      "Training of epoch 5/100: 100%|██████████| 10/10 [00:00<00:00, 12.46batch/s]recon: 34.50\n",
      "kl: 23.31\n",
      "total loss: 35.43\n",
      "Training of epoch 5/100: 100%|██████████| 10/10 [00:01<00:00,  9.14batch/s]\n",
      "Eval of epoch 5/100:  10%|█         | 1/10 [00:00<00:02,  3.56batch/s]\n",
      "--------------------------------------------------------------------------\n",
      "Train loss: 36.3082\n",
      "--------------------------------------------------------------------------\n"
     ]
    },
    {
     "name": "stdout",
     "output_type": "stream",
     "text": [
      "{'train/epoch_loss': 36.30819129943848, 'eval/mmd_real_fake': tensor(0.4656), 'eval/swd_real_fake': tensor(0.3482), 'eval/mmd_real_recon': tensor(0.1680), 'eval/swd_real_recon': tensor(0.2526)}\n"
     ]
    },
    {
     "name": "stderr",
     "output_type": "stream",
     "text": [
      "Training of epoch 6/100: 100%|██████████| 10/10 [00:00<00:00, 12.65batch/s]recon: 28.97\n",
      "kl: 22.26\n",
      "total loss: 29.86\n",
      "Training of epoch 6/100: 100%|██████████| 10/10 [00:01<00:00,  9.37batch/s]\n",
      "Eval of epoch 6/100:  10%|█         | 1/10 [00:00<00:02,  3.72batch/s]\n",
      "--------------------------------------------------------------------------\n",
      "Train loss: 32.5771\n",
      "--------------------------------------------------------------------------\n"
     ]
    },
    {
     "name": "stdout",
     "output_type": "stream",
     "text": [
      "{'train/epoch_loss': 32.57706699371338, 'eval/mmd_real_fake': tensor(0.4494), 'eval/swd_real_fake': tensor(0.3228), 'eval/mmd_real_recon': tensor(0.1452), 'eval/swd_real_recon': tensor(0.2382)}\n"
     ]
    },
    {
     "name": "stderr",
     "output_type": "stream",
     "text": [
      "Training of epoch 7/100:  90%|█████████ | 9/10 [00:00<00:00, 11.76batch/s]recon: 26.49\n",
      "kl: 19.90\n",
      "total loss: 27.28\n",
      "Training of epoch 7/100: 100%|██████████| 10/10 [00:01<00:00,  8.92batch/s]\n",
      "Eval of epoch 7/100:  10%|█         | 1/10 [00:00<00:02,  3.81batch/s]\n",
      "--------------------------------------------------------------------------\n",
      "Train loss: 29.0441\n",
      "--------------------------------------------------------------------------\n"
     ]
    },
    {
     "name": "stdout",
     "output_type": "stream",
     "text": [
      "{'train/epoch_loss': 29.044144058227538, 'eval/mmd_real_fake': tensor(0.4759), 'eval/swd_real_fake': tensor(0.3093), 'eval/mmd_real_recon': tensor(0.1211), 'eval/swd_real_recon': tensor(0.2123)}\n"
     ]
    },
    {
     "name": "stderr",
     "output_type": "stream",
     "text": [
      "Training of epoch 8/100: 100%|██████████| 10/10 [00:00<00:00, 13.20batch/s]recon: 23.70\n",
      "kl: 20.07\n",
      "total loss: 24.51\n",
      "Training of epoch 8/100: 100%|██████████| 10/10 [00:01<00:00,  9.46batch/s]\n",
      "Eval of epoch 8/100:  10%|█         | 1/10 [00:00<00:02,  3.54batch/s]\n",
      "--------------------------------------------------------------------------\n",
      "Train loss: 26.1953\n",
      "--------------------------------------------------------------------------\n"
     ]
    },
    {
     "name": "stdout",
     "output_type": "stream",
     "text": [
      "{'train/epoch_loss': 26.195322799682618, 'eval/mmd_real_fake': tensor(0.4500), 'eval/swd_real_fake': tensor(0.2999), 'eval/mmd_real_recon': tensor(0.0953), 'eval/swd_real_recon': tensor(0.1799)}\n"
     ]
    },
    {
     "name": "stderr",
     "output_type": "stream",
     "text": [
      "Training of epoch 9/100: 100%|██████████| 10/10 [00:00<00:00, 12.57batch/s]recon: 22.35\n",
      "kl: 20.81\n",
      "total loss: 23.19\n",
      "Training of epoch 9/100: 100%|██████████| 10/10 [00:01<00:00,  9.01batch/s]\n",
      "Eval of epoch 9/100:  10%|█         | 1/10 [00:00<00:02,  3.38batch/s]\n",
      "--------------------------------------------------------------------------\n",
      "Train loss: 24.0243\n",
      "--------------------------------------------------------------------------\n"
     ]
    },
    {
     "name": "stdout",
     "output_type": "stream",
     "text": [
      "{'train/epoch_loss': 24.024286651611327, 'eval/mmd_real_fake': tensor(0.5052), 'eval/swd_real_fake': tensor(0.3269), 'eval/mmd_real_recon': tensor(0.0700), 'eval/swd_real_recon': tensor(0.1588)}\n"
     ]
    },
    {
     "name": "stderr",
     "output_type": "stream",
     "text": [
      "Training of epoch 10/100:  90%|█████████ | 9/10 [00:00<00:00, 12.27batch/s]recon: 21.43\n",
      "kl: 21.56\n",
      "total loss: 22.29\n",
      "Training of epoch 10/100: 100%|██████████| 10/10 [00:01<00:00,  9.02batch/s]\n",
      "Eval of epoch 10/100:  10%|█         | 1/10 [00:00<00:02,  3.86batch/s]\n",
      "--------------------------------------------------------------------------\n",
      "Train loss: 22.3438\n",
      "--------------------------------------------------------------------------\n"
     ]
    },
    {
     "name": "stdout",
     "output_type": "stream",
     "text": [
      "{'train/epoch_loss': 22.34380683898926, 'eval/mmd_real_fake': tensor(0.4849), 'eval/swd_real_fake': tensor(0.3059), 'eval/mmd_real_recon': tensor(0.0744), 'eval/swd_real_recon': tensor(0.1540)}\n"
     ]
    },
    {
     "name": "stderr",
     "output_type": "stream",
     "text": [
      "Training of epoch 11/100: 100%|██████████| 10/10 [00:00<00:00, 12.92batch/s]recon: 19.16\n",
      "kl: 23.12\n",
      "total loss: 20.09\n",
      "Training of epoch 11/100: 100%|██████████| 10/10 [00:01<00:00,  9.35batch/s]\n",
      "Eval of epoch 11/100:  10%|█         | 1/10 [00:00<00:02,  3.46batch/s]\n",
      "--------------------------------------------------------------------------\n",
      "Train loss: 21.2052\n",
      "--------------------------------------------------------------------------\n"
     ]
    },
    {
     "name": "stdout",
     "output_type": "stream",
     "text": [
      "{'train/epoch_loss': 21.205240058898926, 'eval/mmd_real_fake': tensor(0.5230), 'eval/swd_real_fake': tensor(0.3109), 'eval/mmd_real_recon': tensor(0.0520), 'eval/swd_real_recon': tensor(0.1308)}\n"
     ]
    },
    {
     "name": "stderr",
     "output_type": "stream",
     "text": [
      "Training of epoch 12/100: 100%|██████████| 10/10 [00:00<00:00, 12.07batch/s]recon: 18.80\n",
      "kl: 26.10\n",
      "total loss: 19.84\n",
      "Training of epoch 12/100: 100%|██████████| 10/10 [00:01<00:00,  9.13batch/s]\n",
      "Eval of epoch 12/100:  10%|█         | 1/10 [00:00<00:02,  3.77batch/s]\n",
      "--------------------------------------------------------------------------\n",
      "Train loss: 20.342\n",
      "--------------------------------------------------------------------------\n"
     ]
    },
    {
     "name": "stdout",
     "output_type": "stream",
     "text": [
      "{'train/epoch_loss': 20.341991806030272, 'eval/mmd_real_fake': tensor(0.4788), 'eval/swd_real_fake': tensor(0.2986), 'eval/mmd_real_recon': tensor(0.0550), 'eval/swd_real_recon': tensor(0.1311)}\n"
     ]
    },
    {
     "name": "stderr",
     "output_type": "stream",
     "text": [
      "Training of epoch 13/100:  90%|█████████ | 9/10 [00:00<00:00, 11.36batch/s]recon: 18.58\n",
      "kl: 27.75\n",
      "total loss: 19.69\n",
      "Training of epoch 13/100: 100%|██████████| 10/10 [00:01<00:00,  8.75batch/s]\n",
      "Eval of epoch 13/100:  10%|█         | 1/10 [00:00<00:02,  3.81batch/s]\n",
      "--------------------------------------------------------------------------\n",
      "Train loss: 19.6047\n",
      "--------------------------------------------------------------------------\n"
     ]
    },
    {
     "name": "stdout",
     "output_type": "stream",
     "text": [
      "{'train/epoch_loss': 19.604702758789063, 'eval/mmd_real_fake': tensor(0.5016), 'eval/swd_real_fake': tensor(0.3020), 'eval/mmd_real_recon': tensor(0.0534), 'eval/swd_real_recon': tensor(0.1236)}\n"
     ]
    },
    {
     "name": "stderr",
     "output_type": "stream",
     "text": [
      "Training of epoch 14/100: 100%|██████████| 10/10 [00:00<00:00, 12.15batch/s]recon: 17.19\n",
      "kl: 28.40\n",
      "total loss: 18.32\n",
      "Training of epoch 14/100: 100%|██████████| 10/10 [00:01<00:00,  9.00batch/s]\n",
      "Eval of epoch 14/100:  10%|█         | 1/10 [00:00<00:02,  3.44batch/s]\n",
      "--------------------------------------------------------------------------\n",
      "Train loss: 18.8785\n",
      "--------------------------------------------------------------------------\n"
     ]
    },
    {
     "name": "stdout",
     "output_type": "stream",
     "text": [
      "{'train/epoch_loss': 18.87852783203125, 'eval/mmd_real_fake': tensor(0.4326), 'eval/swd_real_fake': tensor(0.2879), 'eval/mmd_real_recon': tensor(0.0474), 'eval/swd_real_recon': tensor(0.1202)}\n"
     ]
    },
    {
     "name": "stderr",
     "output_type": "stream",
     "text": [
      "Training of epoch 15/100: 100%|██████████| 10/10 [00:00<00:00, 10.68batch/s]recon: 16.02\n",
      "kl: 33.19\n",
      "total loss: 17.34\n",
      "Training of epoch 15/100: 100%|██████████| 10/10 [00:01<00:00,  7.53batch/s]\n",
      "Eval of epoch 15/100:  10%|█         | 1/10 [00:00<00:03,  2.29batch/s]\n",
      "--------------------------------------------------------------------------\n",
      "Train loss: 18.0599\n",
      "--------------------------------------------------------------------------\n"
     ]
    },
    {
     "name": "stdout",
     "output_type": "stream",
     "text": [
      "{'train/epoch_loss': 18.059928703308106, 'eval/mmd_real_fake': tensor(0.3792), 'eval/swd_real_fake': tensor(0.2642), 'eval/mmd_real_recon': tensor(0.0398), 'eval/swd_real_recon': tensor(0.1175)}\n"
     ]
    },
    {
     "name": "stderr",
     "output_type": "stream",
     "text": [
      "Training of epoch 16/100:  90%|█████████ | 9/10 [00:00<00:00, 12.06batch/s]recon: 14.94\n",
      "kl: 35.46\n",
      "total loss: 16.35\n",
      "Training of epoch 16/100: 100%|██████████| 10/10 [00:01<00:00,  8.61batch/s]\n",
      "Eval of epoch 16/100:  10%|█         | 1/10 [00:00<00:02,  3.60batch/s]\n",
      "--------------------------------------------------------------------------\n",
      "Train loss: 16.701\n",
      "--------------------------------------------------------------------------\n"
     ]
    },
    {
     "name": "stdout",
     "output_type": "stream",
     "text": [
      "{'train/epoch_loss': 16.700973129272462, 'eval/mmd_real_fake': tensor(0.2720), 'eval/swd_real_fake': tensor(0.2338), 'eval/mmd_real_recon': tensor(0.0197), 'eval/swd_real_recon': tensor(0.0937)}\n"
     ]
    },
    {
     "name": "stderr",
     "output_type": "stream",
     "text": [
      "Training of epoch 17/100: 100%|██████████| 10/10 [00:00<00:00, 12.72batch/s]recon: 12.90\n",
      "kl: 39.36\n",
      "total loss: 14.47\n",
      "Training of epoch 17/100: 100%|██████████| 10/10 [00:01<00:00,  8.94batch/s]\n",
      "Eval of epoch 17/100:  10%|█         | 1/10 [00:00<00:02,  3.10batch/s]\n",
      "--------------------------------------------------------------------------\n",
      "Train loss: 15.4053\n",
      "--------------------------------------------------------------------------\n"
     ]
    },
    {
     "name": "stdout",
     "output_type": "stream",
     "text": [
      "{'train/epoch_loss': 15.405300426483155, 'eval/mmd_real_fake': tensor(0.2039), 'eval/swd_real_fake': tensor(0.2079), 'eval/mmd_real_recon': tensor(0.0125), 'eval/swd_real_recon': tensor(0.0824)}\n"
     ]
    },
    {
     "name": "stderr",
     "output_type": "stream",
     "text": [
      "Training of epoch 18/100: 100%|██████████| 10/10 [00:00<00:00, 10.82batch/s]recon: 11.88\n",
      "kl: 43.50\n",
      "total loss: 13.62\n",
      "Training of epoch 18/100: 100%|██████████| 10/10 [00:01<00:00,  7.60batch/s]\n",
      "Eval of epoch 18/100:  10%|█         | 1/10 [00:00<00:03,  2.64batch/s]\n",
      "--------------------------------------------------------------------------\n",
      "Train loss: 14.2861\n",
      "--------------------------------------------------------------------------\n"
     ]
    },
    {
     "name": "stdout",
     "output_type": "stream",
     "text": [
      "{'train/epoch_loss': 14.286081027984618, 'eval/mmd_real_fake': tensor(0.1816), 'eval/swd_real_fake': tensor(0.2063), 'eval/mmd_real_recon': tensor(0.0081), 'eval/swd_real_recon': tensor(0.0775)}\n"
     ]
    },
    {
     "name": "stderr",
     "output_type": "stream",
     "text": [
      "Training of epoch 19/100: 100%|██████████| 10/10 [00:01<00:00,  9.96batch/s]recon: 11.70\n",
      "kl: 46.12\n",
      "total loss: 13.55\n",
      "Training of epoch 19/100: 100%|██████████| 10/10 [00:01<00:00,  7.37batch/s]\n",
      "Eval of epoch 19/100:  10%|█         | 1/10 [00:00<00:02,  3.20batch/s]\n",
      "--------------------------------------------------------------------------\n",
      "Train loss: 13.3556\n",
      "--------------------------------------------------------------------------\n"
     ]
    },
    {
     "name": "stdout",
     "output_type": "stream",
     "text": [
      "{'train/epoch_loss': 13.355605220794677, 'eval/mmd_real_fake': tensor(0.1171), 'eval/swd_real_fake': tensor(0.1686), 'eval/mmd_real_recon': tensor(0.0064), 'eval/swd_real_recon': tensor(0.0724)}\n"
     ]
    },
    {
     "name": "stderr",
     "output_type": "stream",
     "text": [
      "Training of epoch 20/100: 100%|██████████| 10/10 [00:00<00:00, 10.51batch/s]recon: 10.41\n",
      "kl: 50.58\n",
      "total loss: 12.43\n",
      "Training of epoch 20/100: 100%|██████████| 10/10 [00:02<00:00,  3.78batch/s]\n",
      "Eval of epoch 20/100:  10%|█         | 1/10 [00:01<00:15,  1.71s/batch]\n",
      "Saved checkpoint at epoch 20\n",
      "\n",
      "--------------------------------------------------------------------------\n",
      "Train loss: 12.6734\n",
      "--------------------------------------------------------------------------\n"
     ]
    },
    {
     "name": "stdout",
     "output_type": "stream",
     "text": [
      "{'train/epoch_loss': 12.673367500305176, 'eval/mmd_real_fake': tensor(0.1037), 'eval/swd_real_fake': tensor(0.1576), 'eval/mmd_real_recon': tensor(0.0064), 'eval/swd_real_recon': tensor(0.0672)}\n"
     ]
    },
    {
     "name": "stderr",
     "output_type": "stream",
     "text": [
      "Training of epoch 21/100: 100%|██████████| 10/10 [00:00<00:00, 10.82batch/s]recon: 10.07\n",
      "kl: 54.50\n",
      "total loss: 12.25\n",
      "Training of epoch 21/100: 100%|██████████| 10/10 [00:01<00:00,  8.65batch/s]\n",
      "Eval of epoch 21/100:  10%|█         | 1/10 [00:00<00:02,  3.51batch/s]\n",
      "--------------------------------------------------------------------------\n",
      "Train loss: 12.236\n",
      "--------------------------------------------------------------------------\n"
     ]
    },
    {
     "name": "stdout",
     "output_type": "stream",
     "text": [
      "{'train/epoch_loss': 12.235989379882813, 'eval/mmd_real_fake': tensor(0.0938), 'eval/swd_real_fake': tensor(0.1461), 'eval/mmd_real_recon': tensor(0.0050), 'eval/swd_real_recon': tensor(0.0649)}\n"
     ]
    },
    {
     "name": "stderr",
     "output_type": "stream",
     "text": [
      "Training of epoch 22/100:  90%|█████████ | 9/10 [00:00<00:00, 11.21batch/s]recon: 9.31\n",
      "kl: 57.86\n",
      "total loss: 11.62\n",
      "Training of epoch 22/100: 100%|██████████| 10/10 [00:01<00:00,  8.66batch/s]\n",
      "Eval of epoch 22/100:  10%|█         | 1/10 [00:00<00:02,  4.01batch/s]\n",
      "--------------------------------------------------------------------------\n",
      "Train loss: 11.8151\n",
      "--------------------------------------------------------------------------\n"
     ]
    },
    {
     "name": "stdout",
     "output_type": "stream",
     "text": [
      "{'train/epoch_loss': 11.815104675292968, 'eval/mmd_real_fake': tensor(0.0700), 'eval/swd_real_fake': tensor(0.1308), 'eval/mmd_real_recon': tensor(0.0041), 'eval/swd_real_recon': tensor(0.0615)}\n"
     ]
    },
    {
     "name": "stderr",
     "output_type": "stream",
     "text": [
      "Training of epoch 23/100: 100%|██████████| 10/10 [00:00<00:00, 12.58batch/s]recon: 8.81\n",
      "kl: 60.83\n",
      "total loss: 11.25\n",
      "Training of epoch 23/100: 100%|██████████| 10/10 [00:01<00:00,  9.07batch/s]\n",
      "Eval of epoch 23/100:  10%|█         | 1/10 [00:00<00:02,  3.35batch/s]\n",
      "--------------------------------------------------------------------------\n",
      "Train loss: 11.4815\n",
      "--------------------------------------------------------------------------\n"
     ]
    },
    {
     "name": "stdout",
     "output_type": "stream",
     "text": [
      "{'train/epoch_loss': 11.481515502929687, 'eval/mmd_real_fake': tensor(0.0736), 'eval/swd_real_fake': tensor(0.1255), 'eval/mmd_real_recon': tensor(0.0038), 'eval/swd_real_recon': tensor(0.0591)}\n"
     ]
    },
    {
     "name": "stderr",
     "output_type": "stream",
     "text": [
      "Training of epoch 24/100: 100%|██████████| 10/10 [00:00<00:00, 12.27batch/s]recon: 8.57\n",
      "kl: 63.09\n",
      "total loss: 11.10\n",
      "Training of epoch 24/100: 100%|██████████| 10/10 [00:01<00:00,  9.27batch/s]\n",
      "Eval of epoch 24/100:  10%|█         | 1/10 [00:00<00:02,  3.85batch/s]\n",
      "--------------------------------------------------------------------------\n",
      "Train loss: 11.2251\n",
      "--------------------------------------------------------------------------\n"
     ]
    },
    {
     "name": "stdout",
     "output_type": "stream",
     "text": [
      "{'train/epoch_loss': 11.225136852264404, 'eval/mmd_real_fake': tensor(0.0756), 'eval/swd_real_fake': tensor(0.1380), 'eval/mmd_real_recon': tensor(0.0029), 'eval/swd_real_recon': tensor(0.0573)}\n"
     ]
    },
    {
     "name": "stderr",
     "output_type": "stream",
     "text": [
      "Training of epoch 25/100:  90%|█████████ | 9/10 [00:00<00:00, 12.65batch/s]recon: 8.38\n",
      "kl: 64.79\n",
      "total loss: 10.97\n",
      "Training of epoch 25/100: 100%|██████████| 10/10 [00:01<00:00,  9.24batch/s]\n",
      "Eval of epoch 25/100:  10%|█         | 1/10 [00:00<00:02,  3.83batch/s]\n",
      "--------------------------------------------------------------------------\n",
      "Train loss: 10.9708\n",
      "--------------------------------------------------------------------------\n"
     ]
    },
    {
     "name": "stdout",
     "output_type": "stream",
     "text": [
      "{'train/epoch_loss': 10.970751476287841, 'eval/mmd_real_fake': tensor(0.0587), 'eval/swd_real_fake': tensor(0.1115), 'eval/mmd_real_recon': tensor(0.0025), 'eval/swd_real_recon': tensor(0.0524)}\n"
     ]
    },
    {
     "name": "stderr",
     "output_type": "stream",
     "text": [
      "Training of epoch 26/100: 100%|██████████| 10/10 [00:00<00:00, 13.01batch/s]recon: 8.28\n",
      "kl: 66.94\n",
      "total loss: 10.96\n",
      "Training of epoch 26/100: 100%|██████████| 10/10 [00:01<00:00,  9.59batch/s]\n",
      "Eval of epoch 26/100:  10%|█         | 1/10 [00:00<00:02,  3.73batch/s]\n",
      "--------------------------------------------------------------------------\n",
      "Train loss: 10.8268\n",
      "--------------------------------------------------------------------------\n"
     ]
    },
    {
     "name": "stdout",
     "output_type": "stream",
     "text": [
      "{'train/epoch_loss': 10.82677059173584, 'eval/mmd_real_fake': tensor(0.0711), 'eval/swd_real_fake': tensor(0.1209), 'eval/mmd_real_recon': tensor(0.0036), 'eval/swd_real_recon': tensor(0.0520)}\n"
     ]
    },
    {
     "name": "stderr",
     "output_type": "stream",
     "text": [
      "Training of epoch 27/100: 100%|██████████| 10/10 [00:00<00:00, 12.32batch/s]recon: 7.75\n",
      "kl: 68.81\n",
      "total loss: 10.50\n",
      "Training of epoch 27/100: 100%|██████████| 10/10 [00:01<00:00,  9.12batch/s]\n",
      "Eval of epoch 27/100:  10%|█         | 1/10 [00:00<00:02,  3.65batch/s]\n",
      "--------------------------------------------------------------------------\n",
      "Train loss: 10.6116\n",
      "--------------------------------------------------------------------------\n"
     ]
    },
    {
     "name": "stdout",
     "output_type": "stream",
     "text": [
      "{'train/epoch_loss': 10.611552143096924, 'eval/mmd_real_fake': tensor(0.0636), 'eval/swd_real_fake': tensor(0.1330), 'eval/mmd_real_recon': tensor(0.0028), 'eval/swd_real_recon': tensor(0.0486)}\n"
     ]
    },
    {
     "name": "stderr",
     "output_type": "stream",
     "text": [
      "Training of epoch 28/100:  90%|█████████ | 9/10 [00:00<00:00, 12.17batch/s]recon: 7.59\n",
      "kl: 70.79\n",
      "total loss: 10.43\n",
      "Training of epoch 28/100: 100%|██████████| 10/10 [00:01<00:00,  9.15batch/s]\n",
      "Eval of epoch 28/100:  10%|█         | 1/10 [00:00<00:02,  3.92batch/s]\n",
      "--------------------------------------------------------------------------\n",
      "Train loss: 10.4353\n",
      "--------------------------------------------------------------------------\n"
     ]
    },
    {
     "name": "stdout",
     "output_type": "stream",
     "text": [
      "{'train/epoch_loss': 10.435271739959717, 'eval/mmd_real_fake': tensor(0.0555), 'eval/swd_real_fake': tensor(0.1141), 'eval/mmd_real_recon': tensor(0.0020), 'eval/swd_real_recon': tensor(0.0499)}\n"
     ]
    },
    {
     "name": "stderr",
     "output_type": "stream",
     "text": [
      "Training of epoch 29/100: 100%|██████████| 10/10 [00:00<00:00, 12.24batch/s]recon: 7.30\n",
      "kl: 70.64\n",
      "total loss: 10.13\n",
      "Training of epoch 29/100: 100%|██████████| 10/10 [00:01<00:00,  9.10batch/s]\n",
      "Eval of epoch 29/100:  10%|█         | 1/10 [00:00<00:02,  3.47batch/s]\n",
      "--------------------------------------------------------------------------\n",
      "Train loss: 10.2478\n",
      "--------------------------------------------------------------------------\n"
     ]
    },
    {
     "name": "stdout",
     "output_type": "stream",
     "text": [
      "{'train/epoch_loss': 10.247835731506347, 'eval/mmd_real_fake': tensor(0.0632), 'eval/swd_real_fake': tensor(0.1374), 'eval/mmd_real_recon': tensor(0.0023), 'eval/swd_real_recon': tensor(0.0499)}\n"
     ]
    },
    {
     "name": "stderr",
     "output_type": "stream",
     "text": [
      "Training of epoch 30/100: 100%|██████████| 10/10 [00:00<00:00, 12.29batch/s]recon: 7.25\n",
      "kl: 71.84\n",
      "total loss: 10.12\n",
      "Training of epoch 30/100: 100%|██████████| 10/10 [00:01<00:00,  9.19batch/s]\n",
      "Eval of epoch 30/100:  10%|█         | 1/10 [00:00<00:02,  3.91batch/s]\n",
      "--------------------------------------------------------------------------\n",
      "Train loss: 10.1199\n",
      "--------------------------------------------------------------------------\n"
     ]
    },
    {
     "name": "stdout",
     "output_type": "stream",
     "text": [
      "{'train/epoch_loss': 10.11989688873291, 'eval/mmd_real_fake': tensor(0.0431), 'eval/swd_real_fake': tensor(0.0997), 'eval/mmd_real_recon': tensor(0.0017), 'eval/swd_real_recon': tensor(0.0439)}\n"
     ]
    },
    {
     "name": "stderr",
     "output_type": "stream",
     "text": [
      "Training of epoch 31/100:  90%|█████████ | 9/10 [00:00<00:00, 11.23batch/s]recon: 6.96\n",
      "kl: 72.73\n",
      "total loss: 9.87\n",
      "Training of epoch 31/100: 100%|██████████| 10/10 [00:01<00:00,  8.56batch/s]\n",
      "Eval of epoch 31/100:  10%|█         | 1/10 [00:00<00:02,  3.73batch/s]\n",
      "--------------------------------------------------------------------------\n",
      "Train loss: 10.0022\n",
      "--------------------------------------------------------------------------\n"
     ]
    },
    {
     "name": "stdout",
     "output_type": "stream",
     "text": [
      "{'train/epoch_loss': 10.00222864151001, 'eval/mmd_real_fake': tensor(0.0387), 'eval/swd_real_fake': tensor(0.0934), 'eval/mmd_real_recon': tensor(0.0012), 'eval/swd_real_recon': tensor(0.0430)}\n"
     ]
    },
    {
     "name": "stderr",
     "output_type": "stream",
     "text": [
      "Training of epoch 32/100: 100%|██████████| 10/10 [00:00<00:00, 12.18batch/s]recon: 6.67\n",
      "kl: 75.00\n",
      "total loss: 9.67\n",
      "Training of epoch 32/100: 100%|██████████| 10/10 [00:01<00:00,  8.76batch/s]\n",
      "Eval of epoch 32/100:  10%|█         | 1/10 [00:00<00:02,  3.18batch/s]\n",
      "--------------------------------------------------------------------------\n",
      "Train loss: 9.8427\n",
      "--------------------------------------------------------------------------\n"
     ]
    },
    {
     "name": "stdout",
     "output_type": "stream",
     "text": [
      "{'train/epoch_loss': 9.842652225494385, 'eval/mmd_real_fake': tensor(0.0524), 'eval/swd_real_fake': tensor(0.1112), 'eval/mmd_real_recon': tensor(0.0013), 'eval/swd_real_recon': tensor(0.0444)}\n"
     ]
    },
    {
     "name": "stderr",
     "output_type": "stream",
     "text": [
      "Training of epoch 33/100: 100%|██████████| 10/10 [00:00<00:00,  9.62batch/s]recon: 6.90\n",
      "kl: 75.67\n",
      "total loss: 9.93\n",
      "Training of epoch 33/100: 100%|██████████| 10/10 [00:01<00:00,  7.96batch/s]\n",
      "Eval of epoch 33/100:  10%|█         | 1/10 [00:00<00:02,  3.91batch/s]\n",
      "--------------------------------------------------------------------------\n",
      "Train loss: 9.7331\n",
      "--------------------------------------------------------------------------\n"
     ]
    },
    {
     "name": "stdout",
     "output_type": "stream",
     "text": [
      "{'train/epoch_loss': 9.733132362365723, 'eval/mmd_real_fake': tensor(0.0451), 'eval/swd_real_fake': tensor(0.0946), 'eval/mmd_real_recon': tensor(0.0013), 'eval/swd_real_recon': tensor(0.0396)}\n"
     ]
    },
    {
     "name": "stderr",
     "output_type": "stream",
     "text": [
      "Training of epoch 34/100: 100%|██████████| 10/10 [00:01<00:00, 10.85batch/s]recon: 6.73\n",
      "kl: 77.21\n",
      "total loss: 9.82\n",
      "Training of epoch 34/100: 100%|██████████| 10/10 [00:01<00:00,  7.67batch/s]\n",
      "Eval of epoch 34/100:  10%|█         | 1/10 [00:00<00:02,  4.11batch/s]\n",
      "--------------------------------------------------------------------------\n",
      "Train loss: 9.6145\n",
      "--------------------------------------------------------------------------\n"
     ]
    },
    {
     "name": "stdout",
     "output_type": "stream",
     "text": [
      "{'train/epoch_loss': 9.61452283859253, 'eval/mmd_real_fake': tensor(0.0387), 'eval/swd_real_fake': tensor(0.0855), 'eval/mmd_real_recon': tensor(0.0014), 'eval/swd_real_recon': tensor(0.0443)}\n"
     ]
    },
    {
     "name": "stderr",
     "output_type": "stream",
     "text": [
      "Training of epoch 35/100:  90%|█████████ | 9/10 [00:00<00:00, 12.30batch/s]recon: 6.26\n",
      "kl: 77.38\n",
      "total loss: 9.35\n",
      "Training of epoch 35/100: 100%|██████████| 10/10 [00:01<00:00,  9.07batch/s]\n",
      "Eval of epoch 35/100:  10%|█         | 1/10 [00:00<00:02,  4.22batch/s]\n",
      "--------------------------------------------------------------------------\n",
      "Train loss: 9.5337\n",
      "--------------------------------------------------------------------------\n"
     ]
    },
    {
     "name": "stdout",
     "output_type": "stream",
     "text": [
      "{'train/epoch_loss': 9.53368034362793, 'eval/mmd_real_fake': tensor(0.0366), 'eval/swd_real_fake': tensor(0.0876), 'eval/mmd_real_recon': tensor(0.0021), 'eval/swd_real_recon': tensor(0.0439)}\n"
     ]
    },
    {
     "name": "stderr",
     "output_type": "stream",
     "text": [
      "Training of epoch 36/100: 100%|██████████| 10/10 [00:00<00:00, 12.40batch/s]recon: 6.07\n",
      "kl: 78.90\n",
      "total loss: 9.23\n",
      "Training of epoch 36/100: 100%|██████████| 10/10 [00:01<00:00,  9.44batch/s]\n",
      "Eval of epoch 36/100:  10%|█         | 1/10 [00:00<00:02,  3.96batch/s]\n",
      "--------------------------------------------------------------------------\n",
      "Train loss: 9.4719\n",
      "--------------------------------------------------------------------------\n"
     ]
    },
    {
     "name": "stdout",
     "output_type": "stream",
     "text": [
      "{'train/epoch_loss': 9.471859073638916, 'eval/mmd_real_fake': tensor(0.0601), 'eval/swd_real_fake': tensor(0.1214), 'eval/mmd_real_recon': tensor(0.0010), 'eval/swd_real_recon': tensor(0.0371)}\n"
     ]
    },
    {
     "name": "stderr",
     "output_type": "stream",
     "text": [
      "Training of epoch 37/100: 100%|██████████| 10/10 [00:00<00:00, 12.72batch/s]recon: 6.30\n",
      "kl: 77.35\n",
      "total loss: 9.40\n",
      "Training of epoch 37/100: 100%|██████████| 10/10 [00:01<00:00,  9.34batch/s]\n",
      "Eval of epoch 37/100:  10%|█         | 1/10 [00:00<00:02,  3.69batch/s]\n",
      "--------------------------------------------------------------------------\n",
      "Train loss: 9.2994\n",
      "--------------------------------------------------------------------------\n"
     ]
    },
    {
     "name": "stdout",
     "output_type": "stream",
     "text": [
      "{'train/epoch_loss': 9.299401092529298, 'eval/mmd_real_fake': tensor(0.0437), 'eval/swd_real_fake': tensor(0.1069), 'eval/mmd_real_recon': tensor(0.0009), 'eval/swd_real_recon': tensor(0.0361)}\n"
     ]
    },
    {
     "name": "stderr",
     "output_type": "stream",
     "text": [
      "Training of epoch 38/100: 100%|██████████| 10/10 [00:00<00:00, 13.14batch/s]recon: 6.16\n",
      "kl: 78.38\n",
      "total loss: 9.30\n",
      "Training of epoch 38/100: 100%|██████████| 10/10 [00:01<00:00,  9.54batch/s]\n",
      "Eval of epoch 38/100:  10%|█         | 1/10 [00:00<00:02,  3.69batch/s]\n",
      "--------------------------------------------------------------------------\n",
      "Train loss: 9.2059\n",
      "--------------------------------------------------------------------------\n"
     ]
    },
    {
     "name": "stdout",
     "output_type": "stream",
     "text": [
      "{'train/epoch_loss': 9.205871295928954, 'eval/mmd_real_fake': tensor(0.0409), 'eval/swd_real_fake': tensor(0.1041), 'eval/mmd_real_recon': tensor(0.0009), 'eval/swd_real_recon': tensor(0.0357)}\n"
     ]
    },
    {
     "name": "stderr",
     "output_type": "stream",
     "text": [
      "Training of epoch 39/100: 100%|██████████| 10/10 [00:00<00:00, 12.83batch/s]recon: 5.94\n",
      "kl: 79.05\n",
      "total loss: 9.10\n",
      "Training of epoch 39/100: 100%|██████████| 10/10 [00:01<00:00,  9.51batch/s]\n",
      "Eval of epoch 39/100:  10%|█         | 1/10 [00:00<00:02,  4.07batch/s]\n",
      "--------------------------------------------------------------------------\n",
      "Train loss: 9.099\n",
      "--------------------------------------------------------------------------\n"
     ]
    },
    {
     "name": "stdout",
     "output_type": "stream",
     "text": [
      "{'train/epoch_loss': 9.099023628234864, 'eval/mmd_real_fake': tensor(0.0446), 'eval/swd_real_fake': tensor(0.1058), 'eval/mmd_real_recon': tensor(0.0018), 'eval/swd_real_recon': tensor(0.0391)}\n"
     ]
    },
    {
     "name": "stderr",
     "output_type": "stream",
     "text": [
      "Training of epoch 40/100:  90%|█████████ | 9/10 [00:00<00:00, 12.47batch/s]recon: 6.32\n",
      "kl: 78.08\n",
      "total loss: 9.44\n",
      "Training of epoch 40/100: 100%|██████████| 10/10 [00:01<00:00,  6.22batch/s]\n",
      "Eval of epoch 40/100:  10%|█         | 1/10 [00:00<00:07,  1.25batch/s]\n",
      "Saved checkpoint at epoch 40\n",
      "\n",
      "--------------------------------------------------------------------------\n",
      "Train loss: 9.1563\n",
      "--------------------------------------------------------------------------\n"
     ]
    },
    {
     "name": "stdout",
     "output_type": "stream",
     "text": [
      "{'train/epoch_loss': 9.156274509429931, 'eval/mmd_real_fake': tensor(0.0364), 'eval/swd_real_fake': tensor(0.0872), 'eval/mmd_real_recon': tensor(0.0006), 'eval/swd_real_recon': tensor(0.0349)}\n"
     ]
    },
    {
     "name": "stderr",
     "output_type": "stream",
     "text": [
      "Training of epoch 41/100: 100%|██████████| 10/10 [00:00<00:00, 10.95batch/s]recon: 5.84\n",
      "kl: 79.22\n",
      "total loss: 9.01\n",
      "Training of epoch 41/100: 100%|██████████| 10/10 [00:01<00:00,  8.42batch/s]\n",
      "Eval of epoch 41/100:  10%|█         | 1/10 [00:00<00:02,  3.62batch/s]\n",
      "--------------------------------------------------------------------------\n",
      "Train loss: 9.0286\n",
      "--------------------------------------------------------------------------\n"
     ]
    },
    {
     "name": "stdout",
     "output_type": "stream",
     "text": [
      "{'train/epoch_loss': 9.028565311431885, 'eval/mmd_real_fake': tensor(0.0464), 'eval/swd_real_fake': tensor(0.1111), 'eval/mmd_real_recon': tensor(0.0007), 'eval/swd_real_recon': tensor(0.0338)}\n"
     ]
    },
    {
     "name": "stderr",
     "output_type": "stream",
     "text": [
      "Training of epoch 42/100: 100%|██████████| 10/10 [00:00<00:00, 12.30batch/s]recon: 5.74\n",
      "kl: 79.06\n",
      "total loss: 8.90\n",
      "Training of epoch 42/100: 100%|██████████| 10/10 [00:01<00:00,  9.36batch/s]\n",
      "Eval of epoch 42/100:  10%|█         | 1/10 [00:00<00:02,  3.80batch/s]\n",
      "--------------------------------------------------------------------------\n",
      "Train loss: 8.8923\n",
      "--------------------------------------------------------------------------\n"
     ]
    },
    {
     "name": "stdout",
     "output_type": "stream",
     "text": [
      "{'train/epoch_loss': 8.892321968078614, 'eval/mmd_real_fake': tensor(0.0353), 'eval/swd_real_fake': tensor(0.1031), 'eval/mmd_real_recon': tensor(0.0012), 'eval/swd_real_recon': tensor(0.0364)}\n"
     ]
    },
    {
     "name": "stderr",
     "output_type": "stream",
     "text": [
      "Training of epoch 43/100:  90%|█████████ | 9/10 [00:00<00:00, 12.30batch/s]recon: 5.54\n",
      "kl: 82.26\n",
      "total loss: 8.83\n",
      "Training of epoch 43/100: 100%|██████████| 10/10 [00:01<00:00,  9.29batch/s]\n",
      "Eval of epoch 43/100:  10%|█         | 1/10 [00:00<00:02,  4.11batch/s]\n",
      "--------------------------------------------------------------------------\n",
      "Train loss: 8.8227\n",
      "--------------------------------------------------------------------------\n"
     ]
    },
    {
     "name": "stdout",
     "output_type": "stream",
     "text": [
      "{'train/epoch_loss': 8.822695255279541, 'eval/mmd_real_fake': tensor(0.0468), 'eval/swd_real_fake': tensor(0.1220), 'eval/mmd_real_recon': tensor(0.0005), 'eval/swd_real_recon': tensor(0.0329)}\n"
     ]
    },
    {
     "name": "stderr",
     "output_type": "stream",
     "text": [
      "Training of epoch 44/100:  90%|█████████ | 9/10 [00:00<00:00, 12.10batch/s]recon: 5.50\n",
      "kl: 81.03\n",
      "total loss: 8.74\n",
      "Training of epoch 44/100: 100%|██████████| 10/10 [00:01<00:00,  8.74batch/s]\n",
      "Eval of epoch 44/100:  10%|█         | 1/10 [00:00<00:02,  3.76batch/s]\n",
      "--------------------------------------------------------------------------\n",
      "Train loss: 8.7591\n",
      "--------------------------------------------------------------------------\n"
     ]
    },
    {
     "name": "stdout",
     "output_type": "stream",
     "text": [
      "{'train/epoch_loss': 8.759081935882568, 'eval/mmd_real_fake': tensor(0.0335), 'eval/swd_real_fake': tensor(0.0889), 'eval/mmd_real_recon': tensor(0.0010), 'eval/swd_real_recon': tensor(0.0324)}\n"
     ]
    },
    {
     "name": "stderr",
     "output_type": "stream",
     "text": [
      "Training of epoch 45/100: 100%|██████████| 10/10 [00:00<00:00, 10.20batch/s]recon: 5.53\n",
      "kl: 79.90\n",
      "total loss: 8.73\n",
      "Training of epoch 45/100: 100%|██████████| 10/10 [00:01<00:00,  7.77batch/s]\n",
      "Eval of epoch 45/100:  10%|█         | 1/10 [00:00<00:03,  2.97batch/s]\n",
      "--------------------------------------------------------------------------\n",
      "Train loss: 8.7194\n",
      "--------------------------------------------------------------------------\n"
     ]
    },
    {
     "name": "stdout",
     "output_type": "stream",
     "text": [
      "{'train/epoch_loss': 8.719407939910889, 'eval/mmd_real_fake': tensor(0.0440), 'eval/swd_real_fake': tensor(0.1023), 'eval/mmd_real_recon': tensor(0.0005), 'eval/swd_real_recon': tensor(0.0346)}\n"
     ]
    },
    {
     "name": "stderr",
     "output_type": "stream",
     "text": [
      "Training of epoch 46/100: 100%|██████████| 10/10 [00:00<00:00, 12.29batch/s]recon: 5.28\n",
      "kl: 81.13\n",
      "total loss: 8.52\n",
      "Training of epoch 46/100: 100%|██████████| 10/10 [00:01<00:00,  8.75batch/s]\n",
      "Eval of epoch 46/100:  10%|█         | 1/10 [00:00<00:02,  4.25batch/s]\n",
      "--------------------------------------------------------------------------\n",
      "Train loss: 8.6694\n",
      "--------------------------------------------------------------------------\n"
     ]
    },
    {
     "name": "stdout",
     "output_type": "stream",
     "text": [
      "{'train/epoch_loss': 8.669375610351562, 'eval/mmd_real_fake': tensor(0.0416), 'eval/swd_real_fake': tensor(0.1256), 'eval/mmd_real_recon': tensor(0.0008), 'eval/swd_real_recon': tensor(0.0351)}\n"
     ]
    },
    {
     "name": "stderr",
     "output_type": "stream",
     "text": [
      "Training of epoch 47/100: 100%|██████████| 10/10 [00:00<00:00, 12.89batch/s]recon: 5.35\n",
      "kl: 80.34\n",
      "total loss: 8.57\n",
      "Training of epoch 47/100: 100%|██████████| 10/10 [00:01<00:00,  9.42batch/s]\n",
      "Eval of epoch 47/100:  10%|█         | 1/10 [00:00<00:02,  3.69batch/s]\n",
      "--------------------------------------------------------------------------\n",
      "Train loss: 8.619\n",
      "--------------------------------------------------------------------------\n"
     ]
    },
    {
     "name": "stdout",
     "output_type": "stream",
     "text": [
      "{'train/epoch_loss': 8.618953132629395, 'eval/mmd_real_fake': tensor(0.0485), 'eval/swd_real_fake': tensor(0.1128), 'eval/mmd_real_recon': tensor(0.0006), 'eval/swd_real_recon': tensor(0.0346)}\n"
     ]
    },
    {
     "name": "stderr",
     "output_type": "stream",
     "text": [
      "Training of epoch 48/100: 100%|██████████| 10/10 [00:00<00:00, 12.13batch/s]recon: 5.32\n",
      "kl: 81.32\n",
      "total loss: 8.57\n",
      "Training of epoch 48/100: 100%|██████████| 10/10 [00:01<00:00,  9.29batch/s]\n",
      "Eval of epoch 48/100:  10%|█         | 1/10 [00:00<00:02,  4.04batch/s]\n",
      "--------------------------------------------------------------------------\n",
      "Train loss: 8.6135\n",
      "--------------------------------------------------------------------------\n"
     ]
    },
    {
     "name": "stdout",
     "output_type": "stream",
     "text": [
      "{'train/epoch_loss': 8.61350736618042, 'eval/mmd_real_fake': tensor(0.0421), 'eval/swd_real_fake': tensor(0.1136), 'eval/mmd_real_recon': tensor(0.0003), 'eval/swd_real_recon': tensor(0.0319)}\n"
     ]
    },
    {
     "name": "stderr",
     "output_type": "stream",
     "text": [
      "Training of epoch 49/100:  90%|█████████ | 9/10 [00:00<00:00, 12.47batch/s]recon: 5.35\n",
      "kl: 81.03\n",
      "total loss: 8.59\n",
      "Training of epoch 49/100: 100%|██████████| 10/10 [00:01<00:00,  9.18batch/s]\n",
      "Eval of epoch 49/100:  10%|█         | 1/10 [00:00<00:02,  3.71batch/s]\n",
      "--------------------------------------------------------------------------\n",
      "Train loss: 8.5112\n",
      "--------------------------------------------------------------------------\n"
     ]
    },
    {
     "name": "stdout",
     "output_type": "stream",
     "text": [
      "{'train/epoch_loss': 8.51121473312378, 'eval/mmd_real_fake': tensor(0.0381), 'eval/swd_real_fake': tensor(0.0904), 'eval/mmd_real_recon': tensor(0.0005), 'eval/swd_real_recon': tensor(0.0317)}\n"
     ]
    },
    {
     "name": "stderr",
     "output_type": "stream",
     "text": [
      "Training of epoch 50/100: 100%|██████████| 10/10 [00:00<00:00, 12.13batch/s]recon: 5.07\n",
      "kl: 82.69\n",
      "total loss: 8.38\n",
      "Training of epoch 50/100: 100%|██████████| 10/10 [00:01<00:00,  8.88batch/s]\n",
      "Eval of epoch 50/100:  10%|█         | 1/10 [00:00<00:02,  3.43batch/s]\n",
      "--------------------------------------------------------------------------\n",
      "Train loss: 8.461\n",
      "--------------------------------------------------------------------------\n"
     ]
    },
    {
     "name": "stdout",
     "output_type": "stream",
     "text": [
      "{'train/epoch_loss': 8.461049270629882, 'eval/mmd_real_fake': tensor(0.0267), 'eval/swd_real_fake': tensor(0.0878), 'eval/mmd_real_recon': tensor(0.0003), 'eval/swd_real_recon': tensor(0.0305)}\n"
     ]
    },
    {
     "name": "stderr",
     "output_type": "stream",
     "text": [
      "Training of epoch 51/100: 100%|██████████| 10/10 [00:00<00:00, 12.76batch/s]recon: 5.00\n",
      "kl: 81.20\n",
      "total loss: 8.25\n",
      "Training of epoch 51/100: 100%|██████████| 10/10 [00:01<00:00,  9.72batch/s]\n",
      "Eval of epoch 51/100:  10%|█         | 1/10 [00:00<00:02,  4.29batch/s]\n",
      "--------------------------------------------------------------------------\n",
      "Train loss: 8.4178\n",
      "--------------------------------------------------------------------------\n"
     ]
    },
    {
     "name": "stdout",
     "output_type": "stream",
     "text": [
      "{'train/epoch_loss': 8.417779445648193, 'eval/mmd_real_fake': tensor(0.0360), 'eval/swd_real_fake': tensor(0.0893), 'eval/mmd_real_recon': tensor(0.0005), 'eval/swd_real_recon': tensor(0.0303)}\n"
     ]
    },
    {
     "name": "stderr",
     "output_type": "stream",
     "text": [
      "Training of epoch 52/100:  90%|█████████ | 9/10 [00:00<00:00, 12.57batch/s]recon: 4.86\n",
      "kl: 81.12\n",
      "total loss: 8.10\n",
      "Training of epoch 52/100: 100%|██████████| 10/10 [00:01<00:00,  9.14batch/s]\n",
      "Eval of epoch 52/100:  10%|█         | 1/10 [00:00<00:02,  3.69batch/s]\n",
      "--------------------------------------------------------------------------\n",
      "Train loss: 8.3687\n",
      "--------------------------------------------------------------------------\n"
     ]
    },
    {
     "name": "stdout",
     "output_type": "stream",
     "text": [
      "{'train/epoch_loss': 8.36866397857666, 'eval/mmd_real_fake': tensor(0.0411), 'eval/swd_real_fake': tensor(0.1077), 'eval/mmd_real_recon': tensor(0.0003), 'eval/swd_real_recon': tensor(0.0289)}\n"
     ]
    },
    {
     "name": "stderr",
     "output_type": "stream",
     "text": [
      "Training of epoch 53/100: 100%|██████████| 10/10 [00:00<00:00, 12.56batch/s]recon: 5.30\n",
      "kl: 84.65\n",
      "total loss: 8.69\n",
      "Training of epoch 53/100: 100%|██████████| 10/10 [00:01<00:00,  9.21batch/s]\n",
      "Eval of epoch 53/100:  10%|█         | 1/10 [00:00<00:02,  3.61batch/s]\n",
      "--------------------------------------------------------------------------\n",
      "Train loss: 8.3646\n",
      "--------------------------------------------------------------------------\n"
     ]
    },
    {
     "name": "stdout",
     "output_type": "stream",
     "text": [
      "{'train/epoch_loss': 8.36457347869873, 'eval/mmd_real_fake': tensor(0.0428), 'eval/swd_real_fake': tensor(0.1240), 'eval/mmd_real_recon': tensor(0.0004), 'eval/swd_real_recon': tensor(0.0298)}\n"
     ]
    },
    {
     "name": "stderr",
     "output_type": "stream",
     "text": [
      "Training of epoch 54/100: 100%|██████████| 10/10 [00:00<00:00, 11.38batch/s]recon: 4.91\n",
      "kl: 82.43\n",
      "total loss: 8.21\n",
      "Training of epoch 54/100: 100%|██████████| 10/10 [00:01<00:00,  8.56batch/s]\n",
      "Eval of epoch 54/100:  10%|█         | 1/10 [00:00<00:02,  3.68batch/s]\n",
      "--------------------------------------------------------------------------\n",
      "Train loss: 8.2931\n",
      "--------------------------------------------------------------------------\n"
     ]
    },
    {
     "name": "stdout",
     "output_type": "stream",
     "text": [
      "{'train/epoch_loss': 8.293130779266358, 'eval/mmd_real_fake': tensor(0.0314), 'eval/swd_real_fake': tensor(0.0977), 'eval/mmd_real_recon': tensor(0.0005), 'eval/swd_real_recon': tensor(0.0293)}\n"
     ]
    },
    {
     "name": "stderr",
     "output_type": "stream",
     "text": [
      "Training of epoch 55/100:  90%|█████████ | 9/10 [00:00<00:00, 12.18batch/s]recon: 4.90\n",
      "kl: 83.84\n",
      "total loss: 8.26\n",
      "Training of epoch 55/100: 100%|██████████| 10/10 [00:01<00:00,  9.16batch/s]\n",
      "Eval of epoch 55/100:  10%|█         | 1/10 [00:00<00:02,  4.00batch/s]\n",
      "--------------------------------------------------------------------------\n",
      "Train loss: 8.3282\n",
      "--------------------------------------------------------------------------\n"
     ]
    },
    {
     "name": "stdout",
     "output_type": "stream",
     "text": [
      "{'train/epoch_loss': 8.328215599060059, 'eval/mmd_real_fake': tensor(0.0351), 'eval/swd_real_fake': tensor(0.0882), 'eval/mmd_real_recon': tensor(0.0005), 'eval/swd_real_recon': tensor(0.0296)}\n"
     ]
    },
    {
     "name": "stderr",
     "output_type": "stream",
     "text": [
      "Training of epoch 56/100: 100%|██████████| 10/10 [00:00<00:00, 11.93batch/s]recon: 4.98\n",
      "kl: 83.75\n",
      "total loss: 8.33\n",
      "Training of epoch 56/100: 100%|██████████| 10/10 [00:01<00:00,  8.99batch/s]\n",
      "Eval of epoch 56/100:  10%|█         | 1/10 [00:00<00:02,  3.59batch/s]\n",
      "--------------------------------------------------------------------------\n",
      "Train loss: 8.2692\n",
      "--------------------------------------------------------------------------\n"
     ]
    },
    {
     "name": "stdout",
     "output_type": "stream",
     "text": [
      "{'train/epoch_loss': 8.269230937957763, 'eval/mmd_real_fake': tensor(0.0436), 'eval/swd_real_fake': tensor(0.1201), 'eval/mmd_real_recon': tensor(0.0004), 'eval/swd_real_recon': tensor(0.0290)}\n"
     ]
    },
    {
     "name": "stderr",
     "output_type": "stream",
     "text": [
      "Training of epoch 57/100: 100%|██████████| 10/10 [00:00<00:00, 12.51batch/s]recon: 4.78\n",
      "kl: 84.29\n",
      "total loss: 8.15\n",
      "Training of epoch 57/100: 100%|██████████| 10/10 [00:01<00:00,  9.51batch/s]\n",
      "Eval of epoch 57/100:  10%|█         | 1/10 [00:00<00:02,  4.02batch/s]\n",
      "--------------------------------------------------------------------------\n",
      "Train loss: 8.2231\n",
      "--------------------------------------------------------------------------\n"
     ]
    },
    {
     "name": "stdout",
     "output_type": "stream",
     "text": [
      "{'train/epoch_loss': 8.223144340515137, 'eval/mmd_real_fake': tensor(0.0324), 'eval/swd_real_fake': tensor(0.0800), 'eval/mmd_real_recon': tensor(0.0008), 'eval/swd_real_recon': tensor(0.0314)}\n"
     ]
    },
    {
     "name": "stderr",
     "output_type": "stream",
     "text": [
      "Training of epoch 58/100:  90%|█████████ | 9/10 [00:00<00:00, 12.71batch/s]recon: 4.74\n",
      "kl: 84.46\n",
      "total loss: 8.12\n",
      "Training of epoch 58/100: 100%|██████████| 10/10 [00:01<00:00,  9.38batch/s]\n",
      "Eval of epoch 58/100:  10%|█         | 1/10 [00:00<00:02,  4.21batch/s]\n",
      "--------------------------------------------------------------------------\n",
      "Train loss: 8.2062\n",
      "--------------------------------------------------------------------------\n"
     ]
    },
    {
     "name": "stdout",
     "output_type": "stream",
     "text": [
      "{'train/epoch_loss': 8.20623550415039, 'eval/mmd_real_fake': tensor(0.0293), 'eval/swd_real_fake': tensor(0.1002), 'eval/mmd_real_recon': tensor(0.0003), 'eval/swd_real_recon': tensor(0.0274)}\n"
     ]
    },
    {
     "name": "stderr",
     "output_type": "stream",
     "text": [
      "Training of epoch 59/100: 100%|██████████| 10/10 [00:00<00:00, 13.11batch/s]recon: 4.82\n",
      "kl: 84.64\n",
      "total loss: 8.21\n",
      "Training of epoch 59/100: 100%|██████████| 10/10 [00:01<00:00,  9.53batch/s]\n",
      "Eval of epoch 59/100:  10%|█         | 1/10 [00:00<00:02,  3.61batch/s]\n",
      "--------------------------------------------------------------------------\n",
      "Train loss: 8.1785\n",
      "--------------------------------------------------------------------------\n"
     ]
    },
    {
     "name": "stdout",
     "output_type": "stream",
     "text": [
      "{'train/epoch_loss': 8.178520202636719, 'eval/mmd_real_fake': tensor(0.0359), 'eval/swd_real_fake': tensor(0.0930), 'eval/mmd_real_recon': tensor(0.0006), 'eval/swd_real_recon': tensor(0.0302)}\n"
     ]
    },
    {
     "name": "stderr",
     "output_type": "stream",
     "text": [
      "Training of epoch 60/100: 100%|██████████| 10/10 [00:00<00:00, 12.01batch/s]recon: 4.74\n",
      "kl: 85.23\n",
      "total loss: 8.15\n",
      "Training of epoch 60/100: 100%|██████████| 10/10 [00:01<00:00,  6.55batch/s]\n",
      "Eval of epoch 60/100:  10%|█         | 1/10 [00:00<00:05,  1.53batch/s]\n",
      "Saved checkpoint at epoch 60\n",
      "\n",
      "--------------------------------------------------------------------------\n",
      "Train loss: 8.1487\n",
      "--------------------------------------------------------------------------\n"
     ]
    },
    {
     "name": "stdout",
     "output_type": "stream",
     "text": [
      "{'train/epoch_loss': 8.148714637756347, 'eval/mmd_real_fake': tensor(0.0325), 'eval/swd_real_fake': tensor(0.0949), 'eval/mmd_real_recon': tensor(0.0005), 'eval/swd_real_recon': tensor(0.0280)}\n"
     ]
    },
    {
     "name": "stderr",
     "output_type": "stream",
     "text": [
      "Training of epoch 61/100:  90%|█████████ | 9/10 [00:00<00:00, 12.54batch/s]recon: 4.84\n",
      "kl: 84.28\n",
      "total loss: 8.21\n",
      "Training of epoch 61/100: 100%|██████████| 10/10 [00:01<00:00,  9.31batch/s]\n",
      "Eval of epoch 61/100:  10%|█         | 1/10 [00:00<00:02,  4.03batch/s]\n",
      "--------------------------------------------------------------------------\n",
      "Train loss: 8.1613\n",
      "--------------------------------------------------------------------------\n"
     ]
    },
    {
     "name": "stdout",
     "output_type": "stream",
     "text": [
      "{'train/epoch_loss': 8.161338424682617, 'eval/mmd_real_fake': tensor(0.0261), 'eval/swd_real_fake': tensor(0.0765), 'eval/mmd_real_recon': tensor(0.0016), 'eval/swd_real_recon': tensor(0.0336)}\n"
     ]
    },
    {
     "name": "stderr",
     "output_type": "stream",
     "text": [
      "Training of epoch 62/100: 100%|██████████| 10/10 [00:00<00:00, 12.43batch/s]recon: 4.83\n",
      "kl: 86.60\n",
      "total loss: 8.29\n",
      "Training of epoch 62/100: 100%|██████████| 10/10 [00:01<00:00,  8.64batch/s]\n",
      "Eval of epoch 62/100:  10%|█         | 1/10 [00:00<00:03,  3.00batch/s]\n",
      "--------------------------------------------------------------------------\n",
      "Train loss: 8.2316\n",
      "--------------------------------------------------------------------------\n"
     ]
    },
    {
     "name": "stdout",
     "output_type": "stream",
     "text": [
      "{'train/epoch_loss': 8.2316463470459, 'eval/mmd_real_fake': tensor(0.0298), 'eval/swd_real_fake': tensor(0.0844), 'eval/mmd_real_recon': tensor(0.0005), 'eval/swd_real_recon': tensor(0.0297)}\n"
     ]
    },
    {
     "name": "stderr",
     "output_type": "stream",
     "text": [
      "Training of epoch 63/100: 100%|██████████| 10/10 [00:00<00:00, 12.62batch/s]recon: 4.69\n",
      "kl: 84.95\n",
      "total loss: 8.09\n",
      "Training of epoch 63/100: 100%|██████████| 10/10 [00:01<00:00,  9.21batch/s]\n",
      "Eval of epoch 63/100:  10%|█         | 1/10 [00:00<00:02,  3.77batch/s]\n",
      "--------------------------------------------------------------------------\n",
      "Train loss: 8.1486\n",
      "--------------------------------------------------------------------------\n"
     ]
    },
    {
     "name": "stdout",
     "output_type": "stream",
     "text": [
      "{'train/epoch_loss': 8.148566722869873, 'eval/mmd_real_fake': tensor(0.0256), 'eval/swd_real_fake': tensor(0.0797), 'eval/mmd_real_recon': tensor(0.0003), 'eval/swd_real_recon': tensor(0.0295)}\n"
     ]
    },
    {
     "name": "stderr",
     "output_type": "stream",
     "text": [
      "Training of epoch 64/100:  90%|█████████ | 9/10 [00:00<00:00, 11.33batch/s]recon: 4.62\n",
      "kl: 84.85\n",
      "total loss: 8.02\n",
      "Training of epoch 64/100: 100%|██████████| 10/10 [00:01<00:00,  8.50batch/s]\n",
      "Eval of epoch 64/100:  10%|█         | 1/10 [00:00<00:02,  3.63batch/s]\n",
      "--------------------------------------------------------------------------\n",
      "Train loss: 8.0585\n",
      "--------------------------------------------------------------------------\n"
     ]
    },
    {
     "name": "stdout",
     "output_type": "stream",
     "text": [
      "{'train/epoch_loss': 8.05847806930542, 'eval/mmd_real_fake': tensor(0.0363), 'eval/swd_real_fake': tensor(0.1125), 'eval/mmd_real_recon': tensor(0.0003), 'eval/swd_real_recon': tensor(0.0267)}\n"
     ]
    },
    {
     "name": "stderr",
     "output_type": "stream",
     "text": [
      "Training of epoch 65/100: 100%|██████████| 10/10 [00:00<00:00, 12.31batch/s]recon: 4.52\n",
      "kl: 84.87\n",
      "total loss: 7.92\n",
      "Training of epoch 65/100: 100%|██████████| 10/10 [00:01<00:00,  9.02batch/s]\n",
      "Eval of epoch 65/100:  10%|█         | 1/10 [00:00<00:02,  3.53batch/s]\n",
      "--------------------------------------------------------------------------\n",
      "Train loss: 8.0279\n",
      "--------------------------------------------------------------------------\n"
     ]
    },
    {
     "name": "stdout",
     "output_type": "stream",
     "text": [
      "{'train/epoch_loss': 8.027852821350098, 'eval/mmd_real_fake': tensor(0.0188), 'eval/swd_real_fake': tensor(0.0668), 'eval/mmd_real_recon': tensor(0.0003), 'eval/swd_real_recon': tensor(0.0273)}\n"
     ]
    },
    {
     "name": "stderr",
     "output_type": "stream",
     "text": [
      "Training of epoch 66/100: 100%|██████████| 10/10 [00:00<00:00, 12.70batch/s]recon: 4.76\n",
      "kl: 86.30\n",
      "total loss: 8.21\n",
      "Training of epoch 66/100: 100%|██████████| 10/10 [00:01<00:00,  9.50batch/s]\n",
      "Eval of epoch 66/100:  10%|█         | 1/10 [00:00<00:02,  3.97batch/s]\n",
      "--------------------------------------------------------------------------\n",
      "Train loss: 8.029\n",
      "--------------------------------------------------------------------------\n"
     ]
    },
    {
     "name": "stdout",
     "output_type": "stream",
     "text": [
      "{'train/epoch_loss': 8.028986597061158, 'eval/mmd_real_fake': tensor(0.0340), 'eval/swd_real_fake': tensor(0.1009), 'eval/mmd_real_recon': tensor(0.0010), 'eval/swd_real_recon': tensor(0.0315)}\n"
     ]
    },
    {
     "name": "stderr",
     "output_type": "stream",
     "text": [
      "Training of epoch 67/100:  90%|█████████ | 9/10 [00:00<00:00, 12.47batch/s]recon: 4.53\n",
      "kl: 85.02\n",
      "total loss: 7.93\n",
      "Training of epoch 67/100: 100%|██████████| 10/10 [00:01<00:00,  9.02batch/s]\n",
      "Eval of epoch 67/100:  10%|█         | 1/10 [00:00<00:02,  3.80batch/s]\n",
      "--------------------------------------------------------------------------\n",
      "Train loss: 8.0673\n",
      "--------------------------------------------------------------------------\n"
     ]
    },
    {
     "name": "stdout",
     "output_type": "stream",
     "text": [
      "{'train/epoch_loss': 8.067286729812622, 'eval/mmd_real_fake': tensor(0.0285), 'eval/swd_real_fake': tensor(0.0765), 'eval/mmd_real_recon': tensor(0.0003), 'eval/swd_real_recon': tensor(0.0268)}\n"
     ]
    },
    {
     "name": "stderr",
     "output_type": "stream",
     "text": [
      "Training of epoch 68/100: 100%|██████████| 10/10 [00:00<00:00, 13.36batch/s]recon: 4.71\n",
      "kl: 85.27\n",
      "total loss: 8.12\n",
      "Training of epoch 68/100: 100%|██████████| 10/10 [00:01<00:00,  9.53batch/s]\n",
      "Eval of epoch 68/100:  10%|█         | 1/10 [00:00<00:02,  3.40batch/s]\n",
      "--------------------------------------------------------------------------\n",
      "Train loss: 7.996\n",
      "--------------------------------------------------------------------------\n"
     ]
    },
    {
     "name": "stdout",
     "output_type": "stream",
     "text": [
      "{'train/epoch_loss': 7.995972728729248, 'eval/mmd_real_fake': tensor(0.0310), 'eval/swd_real_fake': tensor(0.0972), 'eval/mmd_real_recon': tensor(0.0004), 'eval/swd_real_recon': tensor(0.0277)}\n"
     ]
    },
    {
     "name": "stderr",
     "output_type": "stream",
     "text": [
      "Training of epoch 69/100: 100%|██████████| 10/10 [00:00<00:00, 12.36batch/s]recon: 4.42\n",
      "kl: 86.48\n",
      "total loss: 7.88\n",
      "Training of epoch 69/100: 100%|██████████| 10/10 [00:01<00:00,  9.41batch/s]\n",
      "Eval of epoch 69/100:  10%|█         | 1/10 [00:00<00:02,  4.05batch/s]\n",
      "--------------------------------------------------------------------------\n",
      "Train loss: 7.9906\n",
      "--------------------------------------------------------------------------\n"
     ]
    },
    {
     "name": "stdout",
     "output_type": "stream",
     "text": [
      "{'train/epoch_loss': 7.990612173080445, 'eval/mmd_real_fake': tensor(0.0340), 'eval/swd_real_fake': tensor(0.0990), 'eval/mmd_real_recon': tensor(0.0005), 'eval/swd_real_recon': tensor(0.0273)}\n"
     ]
    },
    {
     "name": "stderr",
     "output_type": "stream",
     "text": [
      "Training of epoch 70/100:  90%|█████████ | 9/10 [00:00<00:00, 13.09batch/s]recon: 4.60\n",
      "kl: 84.16\n",
      "total loss: 7.97\n",
      "Training of epoch 70/100: 100%|██████████| 10/10 [00:01<00:00,  9.50batch/s]\n",
      "Eval of epoch 70/100:  10%|█         | 1/10 [00:00<00:02,  3.81batch/s]\n",
      "--------------------------------------------------------------------------\n",
      "Train loss: 7.9597\n",
      "--------------------------------------------------------------------------\n"
     ]
    },
    {
     "name": "stdout",
     "output_type": "stream",
     "text": [
      "{'train/epoch_loss': 7.959661340713501, 'eval/mmd_real_fake': tensor(0.0320), 'eval/swd_real_fake': tensor(0.0921), 'eval/mmd_real_recon': tensor(0.0003), 'eval/swd_real_recon': tensor(0.0270)}\n"
     ]
    },
    {
     "name": "stderr",
     "output_type": "stream",
     "text": [
      "Training of epoch 71/100: 100%|██████████| 10/10 [00:00<00:00, 12.36batch/s]recon: 4.47\n",
      "kl: 84.49\n",
      "total loss: 7.85\n",
      "Training of epoch 71/100: 100%|██████████| 10/10 [00:01<00:00,  8.98batch/s]\n",
      "Eval of epoch 71/100:  10%|█         | 1/10 [00:00<00:02,  3.37batch/s]\n",
      "--------------------------------------------------------------------------\n",
      "Train loss: 7.9242\n",
      "--------------------------------------------------------------------------\n"
     ]
    },
    {
     "name": "stdout",
     "output_type": "stream",
     "text": [
      "{'train/epoch_loss': 7.924237823486328, 'eval/mmd_real_fake': tensor(0.0283), 'eval/swd_real_fake': tensor(0.0945), 'eval/mmd_real_recon': tensor(0.0004), 'eval/swd_real_recon': tensor(0.0294)}\n"
     ]
    },
    {
     "name": "stderr",
     "output_type": "stream",
     "text": [
      "Training of epoch 72/100: 100%|██████████| 10/10 [00:00<00:00, 12.62batch/s]recon: 4.49\n",
      "kl: 84.04\n",
      "total loss: 7.85\n",
      "Training of epoch 72/100: 100%|██████████| 10/10 [00:01<00:00,  9.43batch/s]\n",
      "Eval of epoch 72/100:  10%|█         | 1/10 [00:00<00:02,  3.90batch/s]\n",
      "--------------------------------------------------------------------------\n",
      "Train loss: 7.8763\n",
      "--------------------------------------------------------------------------\n"
     ]
    },
    {
     "name": "stdout",
     "output_type": "stream",
     "text": [
      "{'train/epoch_loss': 7.8763213634490965, 'eval/mmd_real_fake': tensor(0.0271), 'eval/swd_real_fake': tensor(0.0692), 'eval/mmd_real_recon': tensor(0.0002), 'eval/swd_real_recon': tensor(0.0272)}\n"
     ]
    },
    {
     "name": "stderr",
     "output_type": "stream",
     "text": [
      "Training of epoch 73/100:  90%|█████████ | 9/10 [00:00<00:00, 12.78batch/s]recon: 4.51\n",
      "kl: 84.60\n",
      "total loss: 7.90\n",
      "Training of epoch 73/100: 100%|██████████| 10/10 [00:01<00:00,  9.23batch/s]\n",
      "Eval of epoch 73/100:  10%|█         | 1/10 [00:00<00:02,  3.75batch/s]\n",
      "--------------------------------------------------------------------------\n",
      "Train loss: 7.8693\n",
      "--------------------------------------------------------------------------\n"
     ]
    },
    {
     "name": "stdout",
     "output_type": "stream",
     "text": [
      "{'train/epoch_loss': 7.869319581985474, 'eval/mmd_real_fake': tensor(0.0374), 'eval/swd_real_fake': tensor(0.0873), 'eval/mmd_real_recon': tensor(0.0002), 'eval/swd_real_recon': tensor(0.0260)}\n"
     ]
    },
    {
     "name": "stderr",
     "output_type": "stream",
     "text": [
      "Training of epoch 74/100: 100%|██████████| 10/10 [00:00<00:00, 12.15batch/s]recon: 4.58\n",
      "kl: 88.43\n",
      "total loss: 8.12\n",
      "Training of epoch 74/100: 100%|██████████| 10/10 [00:01<00:00,  8.99batch/s]\n",
      "Eval of epoch 74/100:  10%|█         | 1/10 [00:00<00:02,  3.48batch/s]\n",
      "--------------------------------------------------------------------------\n",
      "Train loss: 7.9642\n",
      "--------------------------------------------------------------------------\n"
     ]
    },
    {
     "name": "stdout",
     "output_type": "stream",
     "text": [
      "{'train/epoch_loss': 7.9642478942871096, 'eval/mmd_real_fake': tensor(0.0338), 'eval/swd_real_fake': tensor(0.1014), 'eval/mmd_real_recon': tensor(0.0009), 'eval/swd_real_recon': tensor(0.0273)}\n"
     ]
    },
    {
     "name": "stderr",
     "output_type": "stream",
     "text": [
      "Training of epoch 75/100: 100%|██████████| 10/10 [00:00<00:00, 12.57batch/s]recon: 4.42\n",
      "kl: 85.48\n",
      "total loss: 7.84\n",
      "Training of epoch 75/100: 100%|██████████| 10/10 [00:01<00:00,  9.55batch/s]\n",
      "Eval of epoch 75/100:  10%|█         | 1/10 [00:00<00:02,  4.01batch/s]\n",
      "--------------------------------------------------------------------------\n",
      "Train loss: 7.9718\n",
      "--------------------------------------------------------------------------\n"
     ]
    },
    {
     "name": "stdout",
     "output_type": "stream",
     "text": [
      "{'train/epoch_loss': 7.9718200206756595, 'eval/mmd_real_fake': tensor(0.0388), 'eval/swd_real_fake': tensor(0.0934), 'eval/mmd_real_recon': tensor(0.0007), 'eval/swd_real_recon': tensor(0.0275)}\n"
     ]
    },
    {
     "name": "stderr",
     "output_type": "stream",
     "text": [
      "Training of epoch 76/100:  90%|█████████ | 9/10 [00:00<00:00, 12.26batch/s]recon: 4.55\n",
      "kl: 85.49\n",
      "total loss: 7.97\n",
      "Training of epoch 76/100: 100%|██████████| 10/10 [00:01<00:00,  9.16batch/s]\n",
      "Eval of epoch 76/100:  10%|█         | 1/10 [00:00<00:02,  3.97batch/s]\n",
      "--------------------------------------------------------------------------\n",
      "Train loss: 7.8654\n",
      "--------------------------------------------------------------------------\n"
     ]
    },
    {
     "name": "stdout",
     "output_type": "stream",
     "text": [
      "{'train/epoch_loss': 7.865444660186768, 'eval/mmd_real_fake': tensor(0.0296), 'eval/swd_real_fake': tensor(0.0890), 'eval/mmd_real_recon': tensor(0.0003), 'eval/swd_real_recon': tensor(0.0258)}\n"
     ]
    },
    {
     "name": "stderr",
     "output_type": "stream",
     "text": [
      "Training of epoch 77/100: 100%|██████████| 10/10 [00:00<00:00, 11.37batch/s]recon: 4.41\n",
      "kl: 84.95\n",
      "total loss: 7.80\n",
      "Training of epoch 77/100: 100%|██████████| 10/10 [00:01<00:00,  8.45batch/s]\n",
      "Eval of epoch 77/100:  10%|█         | 1/10 [00:00<00:02,  3.48batch/s]\n",
      "--------------------------------------------------------------------------\n",
      "Train loss: 7.8017\n",
      "--------------------------------------------------------------------------\n"
     ]
    },
    {
     "name": "stdout",
     "output_type": "stream",
     "text": [
      "{'train/epoch_loss': 7.801654863357544, 'eval/mmd_real_fake': tensor(0.0224), 'eval/swd_real_fake': tensor(0.0717), 'eval/mmd_real_recon': tensor(0.0003), 'eval/swd_real_recon': tensor(0.0256)}\n"
     ]
    },
    {
     "name": "stderr",
     "output_type": "stream",
     "text": [
      "Training of epoch 78/100: 100%|██████████| 10/10 [00:00<00:00, 12.10batch/s]recon: 4.42\n",
      "kl: 84.63\n",
      "total loss: 7.80\n",
      "Training of epoch 78/100: 100%|██████████| 10/10 [00:01<00:00,  8.78batch/s]\n",
      "Eval of epoch 78/100:  10%|█         | 1/10 [00:00<00:02,  3.19batch/s]\n",
      "--------------------------------------------------------------------------\n",
      "Train loss: 7.837\n",
      "--------------------------------------------------------------------------\n"
     ]
    },
    {
     "name": "stdout",
     "output_type": "stream",
     "text": [
      "{'train/epoch_loss': 7.836990833282471, 'eval/mmd_real_fake': tensor(0.0220), 'eval/swd_real_fake': tensor(0.0716), 'eval/mmd_real_recon': tensor(0.0002), 'eval/swd_real_recon': tensor(0.0261)}\n"
     ]
    },
    {
     "name": "stderr",
     "output_type": "stream",
     "text": [
      "Training of epoch 79/100:  90%|█████████ | 9/10 [00:00<00:00,  8.62batch/s]recon: 4.38\n",
      "kl: 85.20\n",
      "total loss: 7.79\n",
      "Training of epoch 79/100: 100%|██████████| 10/10 [00:01<00:00,  7.18batch/s]\n",
      "Eval of epoch 79/100:  10%|█         | 1/10 [00:00<00:02,  3.24batch/s]\n",
      "--------------------------------------------------------------------------\n",
      "Train loss: 7.7908\n",
      "--------------------------------------------------------------------------\n"
     ]
    },
    {
     "name": "stdout",
     "output_type": "stream",
     "text": [
      "{'train/epoch_loss': 7.79079155921936, 'eval/mmd_real_fake': tensor(0.0221), 'eval/swd_real_fake': tensor(0.0641), 'eval/mmd_real_recon': tensor(0.0004), 'eval/swd_real_recon': tensor(0.0262)}\n"
     ]
    },
    {
     "name": "stderr",
     "output_type": "stream",
     "text": [
      "Training of epoch 80/100:  90%|█████████ | 9/10 [00:00<00:00, 12.50batch/s]recon: 4.33\n",
      "kl: 85.04\n",
      "total loss: 7.73\n",
      "Training of epoch 80/100: 100%|██████████| 10/10 [00:01<00:00,  6.12batch/s]\n",
      "Eval of epoch 80/100:  10%|█         | 1/10 [00:00<00:07,  1.25batch/s]\n",
      "Saved checkpoint at epoch 80\n",
      "\n",
      "--------------------------------------------------------------------------\n",
      "Train loss: 7.7901\n",
      "--------------------------------------------------------------------------\n"
     ]
    },
    {
     "name": "stdout",
     "output_type": "stream",
     "text": [
      "{'train/epoch_loss': 7.790085124969482, 'eval/mmd_real_fake': tensor(0.0348), 'eval/swd_real_fake': tensor(0.1002), 'eval/mmd_real_recon': tensor(0.0002), 'eval/swd_real_recon': tensor(0.0242)}\n"
     ]
    },
    {
     "name": "stderr",
     "output_type": "stream",
     "text": [
      "Training of epoch 81/100: 100%|██████████| 10/10 [00:00<00:00, 11.11batch/s]recon: 4.42\n",
      "kl: 86.89\n",
      "total loss: 7.89\n",
      "Training of epoch 81/100: 100%|██████████| 10/10 [00:01<00:00,  8.66batch/s]\n",
      "Eval of epoch 81/100:  10%|█         | 1/10 [00:00<00:02,  3.96batch/s]\n",
      "--------------------------------------------------------------------------\n",
      "Train loss: 7.7719\n",
      "--------------------------------------------------------------------------\n"
     ]
    },
    {
     "name": "stdout",
     "output_type": "stream",
     "text": [
      "{'train/epoch_loss': 7.771911478042602, 'eval/mmd_real_fake': tensor(0.0253), 'eval/swd_real_fake': tensor(0.0780), 'eval/mmd_real_recon': tensor(0.0004), 'eval/swd_real_recon': tensor(0.0247)}\n"
     ]
    },
    {
     "name": "stderr",
     "output_type": "stream",
     "text": [
      "Training of epoch 82/100:  90%|█████████ | 9/10 [00:00<00:00, 12.67batch/s]recon: 4.30\n",
      "kl: 85.76\n",
      "total loss: 7.73\n",
      "Training of epoch 82/100: 100%|██████████| 10/10 [00:01<00:00,  8.54batch/s]\n",
      "Eval of epoch 82/100:  10%|█         | 1/10 [00:00<00:02,  3.33batch/s]\n",
      "--------------------------------------------------------------------------\n",
      "Train loss: 7.7474\n",
      "--------------------------------------------------------------------------\n"
     ]
    },
    {
     "name": "stdout",
     "output_type": "stream",
     "text": [
      "{'train/epoch_loss': 7.7474054336547855, 'eval/mmd_real_fake': tensor(0.0265), 'eval/swd_real_fake': tensor(0.0752), 'eval/mmd_real_recon': tensor(0.0003), 'eval/swd_real_recon': tensor(0.0279)}\n"
     ]
    },
    {
     "name": "stderr",
     "output_type": "stream",
     "text": [
      "Training of epoch 83/100: 100%|██████████| 10/10 [00:01<00:00, 10.40batch/s]recon: 4.37\n",
      "kl: 85.78\n",
      "total loss: 7.80\n",
      "Training of epoch 83/100: 100%|██████████| 10/10 [00:01<00:00,  7.70batch/s]\n",
      "Eval of epoch 83/100:  10%|█         | 1/10 [00:00<00:02,  3.85batch/s]\n",
      "--------------------------------------------------------------------------\n",
      "Train loss: 7.7287\n",
      "--------------------------------------------------------------------------\n"
     ]
    },
    {
     "name": "stdout",
     "output_type": "stream",
     "text": [
      "{'train/epoch_loss': 7.728725099563599, 'eval/mmd_real_fake': tensor(0.0277), 'eval/swd_real_fake': tensor(0.0917), 'eval/mmd_real_recon': tensor(0.0003), 'eval/swd_real_recon': tensor(0.0254)}\n"
     ]
    },
    {
     "name": "stderr",
     "output_type": "stream",
     "text": [
      "Training of epoch 84/100: 100%|██████████| 10/10 [00:00<00:00, 13.18batch/s]recon: 4.24\n",
      "kl: 85.40\n",
      "total loss: 7.66\n",
      "Training of epoch 84/100: 100%|██████████| 10/10 [00:01<00:00,  9.71batch/s]\n",
      "Eval of epoch 84/100:  10%|█         | 1/10 [00:00<00:02,  4.13batch/s]\n",
      "--------------------------------------------------------------------------\n",
      "Train loss: 7.7011\n",
      "--------------------------------------------------------------------------\n"
     ]
    },
    {
     "name": "stdout",
     "output_type": "stream",
     "text": [
      "{'train/epoch_loss': 7.701112937927246, 'eval/mmd_real_fake': tensor(0.0341), 'eval/swd_real_fake': tensor(0.0876), 'eval/mmd_real_recon': tensor(0.0003), 'eval/swd_real_recon': tensor(0.0247)}\n"
     ]
    },
    {
     "name": "stderr",
     "output_type": "stream",
     "text": [
      "Training of epoch 85/100:  90%|█████████ | 9/10 [00:00<00:00, 11.87batch/s]recon: 4.19\n",
      "kl: 83.93\n",
      "total loss: 7.55\n",
      "Training of epoch 85/100: 100%|██████████| 10/10 [00:01<00:00,  8.89batch/s]\n",
      "Eval of epoch 85/100:  10%|█         | 1/10 [00:00<00:02,  4.02batch/s]\n",
      "--------------------------------------------------------------------------\n",
      "Train loss: 7.6747\n",
      "--------------------------------------------------------------------------\n"
     ]
    },
    {
     "name": "stdout",
     "output_type": "stream",
     "text": [
      "{'train/epoch_loss': 7.674692964553833, 'eval/mmd_real_fake': tensor(0.0420), 'eval/swd_real_fake': tensor(0.0979), 'eval/mmd_real_recon': tensor(0.0003), 'eval/swd_real_recon': tensor(0.0254)}\n"
     ]
    },
    {
     "name": "stderr",
     "output_type": "stream",
     "text": [
      "Training of epoch 86/100: 100%|██████████| 10/10 [00:00<00:00, 12.89batch/s]recon: 4.34\n",
      "kl: 86.33\n",
      "total loss: 7.79\n",
      "Training of epoch 86/100: 100%|██████████| 10/10 [00:01<00:00,  9.18batch/s]\n",
      "Eval of epoch 86/100:  10%|█         | 1/10 [00:00<00:02,  3.27batch/s]\n",
      "--------------------------------------------------------------------------\n",
      "Train loss: 7.7185\n",
      "--------------------------------------------------------------------------\n"
     ]
    },
    {
     "name": "stdout",
     "output_type": "stream",
     "text": [
      "{'train/epoch_loss': 7.7184937477111815, 'eval/mmd_real_fake': tensor(0.0410), 'eval/swd_real_fake': tensor(0.1075), 'eval/mmd_real_recon': tensor(0.0002), 'eval/swd_real_recon': tensor(0.0249)}\n"
     ]
    },
    {
     "name": "stderr",
     "output_type": "stream",
     "text": [
      "Training of epoch 87/100: 100%|██████████| 10/10 [00:00<00:00, 12.17batch/s]recon: 4.28\n",
      "kl: 85.59\n",
      "total loss: 7.70\n",
      "Training of epoch 87/100: 100%|██████████| 10/10 [00:01<00:00,  9.21batch/s]\n",
      "Eval of epoch 87/100:  10%|█         | 1/10 [00:00<00:02,  4.10batch/s]\n",
      "--------------------------------------------------------------------------\n",
      "Train loss: 7.7272\n",
      "--------------------------------------------------------------------------\n"
     ]
    },
    {
     "name": "stdout",
     "output_type": "stream",
     "text": [
      "{'train/epoch_loss': 7.727227592468262, 'eval/mmd_real_fake': tensor(0.0225), 'eval/swd_real_fake': tensor(0.0693), 'eval/mmd_real_recon': tensor(0.0002), 'eval/swd_real_recon': tensor(0.0231)}\n"
     ]
    },
    {
     "name": "stderr",
     "output_type": "stream",
     "text": [
      "Training of epoch 88/100:  90%|█████████ | 9/10 [00:00<00:00, 12.65batch/s]recon: 4.30\n",
      "kl: 86.64\n",
      "total loss: 7.77\n",
      "Training of epoch 88/100: 100%|██████████| 10/10 [00:01<00:00,  9.42batch/s]\n",
      "Eval of epoch 88/100:  10%|█         | 1/10 [00:00<00:02,  4.09batch/s]\n",
      "--------------------------------------------------------------------------\n",
      "Train loss: 7.6749\n",
      "--------------------------------------------------------------------------\n"
     ]
    },
    {
     "name": "stdout",
     "output_type": "stream",
     "text": [
      "{'train/epoch_loss': 7.674907112121582, 'eval/mmd_real_fake': tensor(0.0325), 'eval/swd_real_fake': tensor(0.1038), 'eval/mmd_real_recon': tensor(0.0003), 'eval/swd_real_recon': tensor(0.0261)}\n"
     ]
    },
    {
     "name": "stderr",
     "output_type": "stream",
     "text": [
      "Training of epoch 89/100: 100%|██████████| 10/10 [00:00<00:00, 13.39batch/s]recon: 4.35\n",
      "kl: 85.20\n",
      "total loss: 7.76\n",
      "Training of epoch 89/100: 100%|██████████| 10/10 [00:01<00:00,  9.61batch/s]\n",
      "Eval of epoch 89/100:  10%|█         | 1/10 [00:00<00:02,  3.72batch/s]\n",
      "--------------------------------------------------------------------------\n",
      "Train loss: 7.6599\n",
      "--------------------------------------------------------------------------\n"
     ]
    },
    {
     "name": "stdout",
     "output_type": "stream",
     "text": [
      "{'train/epoch_loss': 7.659917116165161, 'eval/mmd_real_fake': tensor(0.0315), 'eval/swd_real_fake': tensor(0.0848), 'eval/mmd_real_recon': tensor(0.0003), 'eval/swd_real_recon': tensor(0.0242)}\n"
     ]
    },
    {
     "name": "stderr",
     "output_type": "stream",
     "text": [
      "Training of epoch 90/100: 100%|██████████| 10/10 [00:00<00:00, 12.35batch/s]recon: 4.35\n",
      "kl: 85.28\n",
      "total loss: 7.76\n",
      "Training of epoch 90/100: 100%|██████████| 10/10 [00:01<00:00,  9.20batch/s]\n",
      "Eval of epoch 90/100:  10%|█         | 1/10 [00:00<00:02,  3.79batch/s]\n",
      "--------------------------------------------------------------------------\n",
      "Train loss: 7.6815\n",
      "--------------------------------------------------------------------------\n"
     ]
    },
    {
     "name": "stdout",
     "output_type": "stream",
     "text": [
      "{'train/epoch_loss': 7.6814600944519045, 'eval/mmd_real_fake': tensor(0.0294), 'eval/swd_real_fake': tensor(0.0873), 'eval/mmd_real_recon': tensor(0.0003), 'eval/swd_real_recon': tensor(0.0256)}\n"
     ]
    },
    {
     "name": "stderr",
     "output_type": "stream",
     "text": [
      "Training of epoch 91/100:  90%|█████████ | 9/10 [00:00<00:00, 12.70batch/s]recon: 4.29\n",
      "kl: 86.05\n",
      "total loss: 7.73\n",
      "Training of epoch 91/100: 100%|██████████| 10/10 [00:01<00:00,  9.14batch/s]\n",
      "Eval of epoch 91/100:  10%|█         | 1/10 [00:00<00:02,  3.88batch/s]\n",
      "--------------------------------------------------------------------------\n",
      "Train loss: 7.66\n",
      "--------------------------------------------------------------------------\n"
     ]
    },
    {
     "name": "stdout",
     "output_type": "stream",
     "text": [
      "{'train/epoch_loss': 7.660019207000732, 'eval/mmd_real_fake': tensor(0.0370), 'eval/swd_real_fake': tensor(0.1025), 'eval/mmd_real_recon': tensor(0.0002), 'eval/swd_real_recon': tensor(0.0244)}\n"
     ]
    },
    {
     "name": "stderr",
     "output_type": "stream",
     "text": [
      "Training of epoch 92/100: 100%|██████████| 10/10 [00:00<00:00, 12.79batch/s]recon: 4.21\n",
      "kl: 86.30\n",
      "total loss: 7.66\n",
      "Training of epoch 92/100: 100%|██████████| 10/10 [00:01<00:00,  9.18batch/s]\n",
      "Eval of epoch 92/100:  10%|█         | 1/10 [00:00<00:02,  3.32batch/s]\n",
      "--------------------------------------------------------------------------\n",
      "Train loss: 7.6108\n",
      "--------------------------------------------------------------------------\n"
     ]
    },
    {
     "name": "stdout",
     "output_type": "stream",
     "text": [
      "{'train/epoch_loss': 7.610751724243164, 'eval/mmd_real_fake': tensor(0.0354), 'eval/swd_real_fake': tensor(0.0931), 'eval/mmd_real_recon': tensor(0.0004), 'eval/swd_real_recon': tensor(0.0250)}\n"
     ]
    },
    {
     "name": "stderr",
     "output_type": "stream",
     "text": [
      "Training of epoch 93/100: 100%|██████████| 10/10 [00:00<00:00, 12.02batch/s]recon: 4.27\n",
      "kl: 86.31\n",
      "total loss: 7.72\n",
      "Training of epoch 93/100: 100%|██████████| 10/10 [00:01<00:00,  9.18batch/s]\n",
      "Eval of epoch 93/100:  10%|█         | 1/10 [00:00<00:02,  3.93batch/s]\n",
      "--------------------------------------------------------------------------\n",
      "Train loss: 7.6137\n",
      "--------------------------------------------------------------------------\n"
     ]
    },
    {
     "name": "stdout",
     "output_type": "stream",
     "text": [
      "{'train/epoch_loss': 7.613657903671265, 'eval/mmd_real_fake': tensor(0.0388), 'eval/swd_real_fake': tensor(0.0929), 'eval/mmd_real_recon': tensor(0.0003), 'eval/swd_real_recon': tensor(0.0261)}\n"
     ]
    },
    {
     "name": "stderr",
     "output_type": "stream",
     "text": [
      "Training of epoch 94/100:  90%|█████████ | 9/10 [00:00<00:00, 12.41batch/s]recon: 4.14\n",
      "kl: 84.09\n",
      "total loss: 7.50\n",
      "Training of epoch 94/100: 100%|██████████| 10/10 [00:01<00:00,  9.27batch/s]\n",
      "Eval of epoch 94/100:  10%|█         | 1/10 [00:00<00:02,  4.00batch/s]\n",
      "--------------------------------------------------------------------------\n",
      "Train loss: 7.5904\n",
      "--------------------------------------------------------------------------\n"
     ]
    },
    {
     "name": "stdout",
     "output_type": "stream",
     "text": [
      "{'train/epoch_loss': 7.590369653701782, 'eval/mmd_real_fake': tensor(0.0432), 'eval/swd_real_fake': tensor(0.1039), 'eval/mmd_real_recon': tensor(0.0003), 'eval/swd_real_recon': tensor(0.0250)}\n"
     ]
    },
    {
     "name": "stderr",
     "output_type": "stream",
     "text": [
      "Training of epoch 95/100: 100%|██████████| 10/10 [00:00<00:00, 12.24batch/s]recon: 4.19\n",
      "kl: 85.86\n",
      "total loss: 7.62\n",
      "Training of epoch 95/100: 100%|██████████| 10/10 [00:01<00:00,  9.11batch/s]\n",
      "Eval of epoch 95/100:  10%|█         | 1/10 [00:00<00:02,  4.01batch/s]\n",
      "--------------------------------------------------------------------------\n",
      "Train loss: 7.6007\n",
      "--------------------------------------------------------------------------\n"
     ]
    },
    {
     "name": "stdout",
     "output_type": "stream",
     "text": [
      "{'train/epoch_loss': 7.600704669952393, 'eval/mmd_real_fake': tensor(0.0352), 'eval/swd_real_fake': tensor(0.1057), 'eval/mmd_real_recon': tensor(0.0004), 'eval/swd_real_recon': tensor(0.0247)}\n"
     ]
    },
    {
     "name": "stderr",
     "output_type": "stream",
     "text": [
      "Training of epoch 96/100: 100%|██████████| 10/10 [00:00<00:00, 11.94batch/s]recon: 4.17\n",
      "kl: 85.05\n",
      "total loss: 7.57\n",
      "Training of epoch 96/100: 100%|██████████| 10/10 [00:01<00:00,  9.22batch/s]\n",
      "Eval of epoch 96/100:  10%|█         | 1/10 [00:00<00:02,  3.97batch/s]\n",
      "--------------------------------------------------------------------------\n",
      "Train loss: 7.642\n",
      "--------------------------------------------------------------------------\n"
     ]
    },
    {
     "name": "stdout",
     "output_type": "stream",
     "text": [
      "{'train/epoch_loss': 7.642024850845337, 'eval/mmd_real_fake': tensor(0.0335), 'eval/swd_real_fake': tensor(0.0973), 'eval/mmd_real_recon': tensor(0.0005), 'eval/swd_real_recon': tensor(0.0271)}\n"
     ]
    },
    {
     "name": "stderr",
     "output_type": "stream",
     "text": [
      "Training of epoch 97/100:  90%|█████████ | 9/10 [00:00<00:00, 12.10batch/s]recon: 4.25\n",
      "kl: 85.67\n",
      "total loss: 7.68\n",
      "Training of epoch 97/100: 100%|██████████| 10/10 [00:01<00:00,  8.93batch/s]\n",
      "Eval of epoch 97/100:  10%|█         | 1/10 [00:00<00:02,  3.62batch/s]\n",
      "--------------------------------------------------------------------------\n",
      "Train loss: 7.5961\n",
      "--------------------------------------------------------------------------\n"
     ]
    },
    {
     "name": "stdout",
     "output_type": "stream",
     "text": [
      "{'train/epoch_loss': 7.596076965332031, 'eval/mmd_real_fake': tensor(0.0342), 'eval/swd_real_fake': tensor(0.1093), 'eval/mmd_real_recon': tensor(0.0004), 'eval/swd_real_recon': tensor(0.0233)}\n"
     ]
    },
    {
     "name": "stderr",
     "output_type": "stream",
     "text": [
      "Training of epoch 98/100: 100%|██████████| 10/10 [00:00<00:00, 12.50batch/s]recon: 4.03\n",
      "kl: 85.01\n",
      "total loss: 7.43\n",
      "Training of epoch 98/100: 100%|██████████| 10/10 [00:01<00:00,  9.13batch/s]\n",
      "Eval of epoch 98/100:  10%|█         | 1/10 [00:00<00:02,  3.48batch/s]\n",
      "--------------------------------------------------------------------------\n",
      "Train loss: 7.5659\n",
      "--------------------------------------------------------------------------\n"
     ]
    },
    {
     "name": "stdout",
     "output_type": "stream",
     "text": [
      "{'train/epoch_loss': 7.5659096240997314, 'eval/mmd_real_fake': tensor(0.0272), 'eval/swd_real_fake': tensor(0.0756), 'eval/mmd_real_recon': tensor(0.0003), 'eval/swd_real_recon': tensor(0.0244)}\n"
     ]
    },
    {
     "name": "stderr",
     "output_type": "stream",
     "text": [
      "Training of epoch 99/100: 100%|██████████| 10/10 [00:00<00:00, 12.98batch/s]recon: 4.17\n",
      "kl: 86.15\n",
      "total loss: 7.61\n",
      "Training of epoch 99/100: 100%|██████████| 10/10 [00:01<00:00,  9.59batch/s]\n",
      "Eval of epoch 99/100:  10%|█         | 1/10 [00:00<00:02,  3.84batch/s]\n",
      "--------------------------------------------------------------------------\n",
      "Train loss: 7.5464\n",
      "--------------------------------------------------------------------------\n"
     ]
    },
    {
     "name": "stdout",
     "output_type": "stream",
     "text": [
      "{'train/epoch_loss': 7.546445322036743, 'eval/mmd_real_fake': tensor(0.0328), 'eval/swd_real_fake': tensor(0.1000), 'eval/mmd_real_recon': tensor(0.0002), 'eval/swd_real_recon': tensor(0.0227)}\n"
     ]
    },
    {
     "name": "stderr",
     "output_type": "stream",
     "text": [
      "Training of epoch 100/100:  90%|█████████ | 9/10 [00:00<00:00, 12.45batch/s]recon: 4.17\n",
      "kl: 84.76\n",
      "total loss: 7.56\n",
      "Training of epoch 100/100: 100%|██████████| 10/10 [00:01<00:00,  6.15batch/s]\n",
      "Eval of epoch 100/100:  10%|█         | 1/10 [00:00<00:07,  1.27batch/s]\n",
      "Saved checkpoint at epoch 100\n",
      "\n",
      "--------------------------------------------------------------------------\n",
      "Train loss: 7.5583\n",
      "--------------------------------------------------------------------------\n",
      "Training ended!\n",
      "Saved final model in ../results/BS2price_timestep_60/model_BetaCVAE_De_CLSTMRes_En_CLSTMRes_Prior_RealNVP_Con_Id_Dis_None_comment_test/BetaCVAE_training_2024-10-08_20-56-58/final_model\n"
     ]
    },
    {
     "name": "stdout",
     "output_type": "stream",
     "text": [
      "{'train/epoch_loss': 7.558252620697021, 'eval/mmd_real_fake': tensor(0.0333), 'eval/swd_real_fake': tensor(0.0916), 'eval/mmd_real_recon': tensor(0.0003), 'eval/swd_real_recon': tensor(0.0236)}\n"
     ]
    },
    {
     "data": {
      "application/vnd.jupyter.widget-view+json": {
       "model_id": "c70a48b53764437fa459e28eedd2173f",
       "version_major": 2,
       "version_minor": 0
      },
      "text/plain": [
       "VBox(children=(Label(value='1.601 MB of 1.601 MB uploaded\\r'), FloatProgress(value=1.0, max=1.0)))"
      ]
     },
     "metadata": {},
     "output_type": "display_data"
    },
    {
     "data": {
      "text/html": [
       "<style>\n",
       "    table.wandb td:nth-child(1) { padding: 0 10px; text-align: left ; width: auto;} td:nth-child(2) {text-align: left ; width: 100%}\n",
       "    .wandb-row { display: flex; flex-direction: row; flex-wrap: wrap; justify-content: flex-start; width: 100% }\n",
       "    .wandb-col { display: flex; flex-direction: column; flex-basis: 100%; flex: 1; padding: 10px; }\n",
       "    </style>\n",
       "<div class=\"wandb-row\"><div class=\"wandb-col\"><h3>Run history:</h3><br/><table class=\"wandb\"><tr><td>eval/mmd_real_fake</td><td>▇▇▇▇██▄▃▂▂▂▁▁▁▂▁▁▁▁▁▁▁▁▁▁▁▁▁▁▁▁▁▁▁▁▁▁▁▁▁</td></tr><tr><td>eval/mmd_real_recon</td><td>█▇▃▂▂▂▁▁▁▁▁▁▁▁▁▁▁▁▁▁▁▁▁▁▁▁▁▁▁▁▁▁▁▁▁▁▁▁▁▁</td></tr><tr><td>eval/swd_real_fake</td><td>██▇▇▇▇▅▄▃▂▂▂▂▂▂▂▂▂▂▂▂▂▂▂▁▂▁▂▁▂▁▁▁▂▁▁▂▂▂▂</td></tr><tr><td>eval/swd_real_recon</td><td>██▅▄▃▃▂▂▂▂▂▂▁▁▁▁▁▁▁▁▁▁▁▁▁▁▁▁▁▁▁▁▁▁▁▁▁▁▁▁</td></tr><tr><td>train/epoch_loss</td><td>█▆▄▃▃▂▂▂▂▁▁▁▁▁▁▁▁▁▁▁▁▁▁▁▁▁▁▁▁▁▁▁▁▁▁▁▁▁▁▁</td></tr><tr><td>train/global_step</td><td>▁▁▁▂▂▂▂▂▂▃▃▃▃▃▄▄▄▄▄▄▅▅▅▅▅▅▆▆▆▆▆▇▇▇▇▇████</td></tr></table><br/></div><div class=\"wandb-col\"><h3>Run summary:</h3><br/><table class=\"wandb\"><tr><td>eval/mmd_real_fake</td><td>0.03332</td></tr><tr><td>eval/mmd_real_recon</td><td>0.00029</td></tr><tr><td>eval/swd_real_fake</td><td>0.09162</td></tr><tr><td>eval/swd_real_recon</td><td>0.02361</td></tr><tr><td>train/epoch_loss</td><td>7.55825</td></tr><tr><td>train/global_step</td><td>100</td></tr></table><br/></div></div>"
      ],
      "text/plain": [
       "<IPython.core.display.HTML object>"
      ]
     },
     "metadata": {},
     "output_type": "display_data"
    },
    {
     "data": {
      "text/html": [
       " View run <strong style=\"color:#cdcd00\">magic-mountain-724</strong> at: <a href='https://wandb.ai/justinhou/tsvae_project/runs/jaentdqg' target=\"_blank\">https://wandb.ai/justinhou/tsvae_project/runs/jaentdqg</a><br/> View project at: <a href='https://wandb.ai/justinhou/tsvae_project' target=\"_blank\">https://wandb.ai/justinhou/tsvae_project</a><br/>Synced 5 W&B file(s), 5 media file(s), 0 artifact file(s) and 0 other file(s)"
      ],
      "text/plain": [
       "<IPython.core.display.HTML object>"
      ]
     },
     "metadata": {},
     "output_type": "display_data"
    },
    {
     "data": {
      "text/html": [
       "Find logs at: <code>../wandb/wandb/run-20241008_205657-jaentdqg/logs</code>"
      ],
      "text/plain": [
       "<IPython.core.display.HTML object>"
      ]
     },
     "metadata": {},
     "output_type": "display_data"
    }
   ],
   "source": [
    "train_pipeline.train(log_output=True)"
   ]
  }
 ],
 "metadata": {
  "kernelspec": {
   "display_name": ".venv",
   "language": "python",
   "name": "python3"
  },
  "language_info": {
   "codemirror_mode": {
    "name": "ipython",
    "version": 3
   },
   "file_extension": ".py",
   "mimetype": "text/x-python",
   "name": "python",
   "nbconvert_exporter": "python",
   "pygments_lexer": "ipython3",
   "version": "3.9.13"
  }
 },
 "nbformat": 4,
 "nbformat_minor": 2
}
