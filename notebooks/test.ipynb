{
 "cells": [
  {
   "cell_type": "code",
   "execution_count": 5,
   "metadata": {},
   "outputs": [
    {
     "name": "stdout",
     "output_type": "stream",
     "text": [
      "The autoreload extension is already loaded. To reload it, use:\n",
      "  %reload_ext autoreload\n"
     ]
    }
   ],
   "source": [
    "%load_ext autoreload\n",
    "%autoreload 2\n",
    "import sys\n",
    "import yaml\n",
    "sys.path.append('../src')\n",
    "from experiments.experiment_utils import ExperimentPipeline"
   ]
  },
  {
   "cell_type": "code",
   "execution_count": 6,
   "metadata": {},
   "outputs": [
    {
     "data": {
      "text/plain": [
       "['../configs/toy2d/Board.yaml',\n",
       " '../configs/toy2d/Spiral.yaml',\n",
       " '../configs/toy2d/GM.yaml',\n",
       " '../configs/MultiBSprice/betacvae.yaml',\n",
       " '../configs/MultiBSprice/infocvae.yaml',\n",
       " '../configs/PDVprice/betacvae.yaml',\n",
       " '../configs/PDVprice/infocvae.yaml',\n",
       " '../configs/SP500VIX/betacvae.yaml',\n",
       " '../configs/SP500VIX/infocvae.yaml',\n",
       " '../configs/Hestonprice/betacvae.yaml',\n",
       " '../configs/Hestonprice/infocvae.yaml',\n",
       " '../configs/BSprice/betacvae.yaml',\n",
       " '../configs/BSprice/infocvae.yaml']"
      ]
     },
     "execution_count": 6,
     "metadata": {},
     "output_type": "execute_result"
    }
   ],
   "source": [
    "from pathlib import Path\n",
    "exp_config_path_list = list([str(x) for x in Path('../configs').rglob('*.yaml')])\n",
    "exp_config_path_list"
   ]
  },
  {
   "cell_type": "code",
   "execution_count": null,
   "metadata": {},
   "outputs": [],
   "source": [
    "from IPython.display import clear_output\n",
    "\n",
    "base_output_dir = '..' \n",
    "new_config = {'epochs' : 50, 'wandb': False, 'comment': 'test', 'base_data_dir' : '../data'}\n",
    "\n",
    "for exp_config_path in exp_config_path_list:\n",
    "    print(exp_config_path)\n",
    "    with open(exp_config_path) as file:\n",
    "        exp_config = dict(yaml.safe_load(file))\n",
    "    exp_ppl = ExperimentPipeline(exp_config,base_output_dir,new_config)\n",
    "    exp_ppl.train()\n",
    "    clear_output(wait=True)"
   ]
  }
 ],
 "metadata": {
  "kernelspec": {
   "display_name": ".venv",
   "language": "python",
   "name": "python3"
  },
  "language_info": {
   "codemirror_mode": {
    "name": "ipython",
    "version": 3
   },
   "file_extension": ".py",
   "mimetype": "text/x-python",
   "name": "python",
   "nbconvert_exporter": "python",
   "pygments_lexer": "ipython3",
   "version": "3.11.9"
  }
 },
 "nbformat": 4,
 "nbformat_minor": 2
}
